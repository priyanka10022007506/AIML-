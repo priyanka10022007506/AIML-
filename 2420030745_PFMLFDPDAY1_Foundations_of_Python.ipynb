{
  "cells": [
    {
      "cell_type": "markdown",
      "metadata": {
        "id": "EJ8sccUFV2y3"
      },
      "source": [
        "# Python for Machine Learning FDP\n",
        "\n",
        "Author: P. Venkateswara Rao"
      ]
    },
    {
      "cell_type": "markdown",
      "metadata": {
        "id": "e2jirJQ2V2y8"
      },
      "source": [
        "# Day1: Agenda"
      ]
    },
    {
      "cell_type": "markdown",
      "metadata": {
        "id": "18XtjkGIV2y8"
      },
      "source": [
        "1. [History of Python and Importance](#his)\n",
        "\n",
        "2. [Important Shortcuts](#Important_Shortcuts)\n",
        "\n",
        "3. [Comments in Python](#Comments_in_Python)\n",
        "\n",
        "4. [Variables in Python](#Variables_in_Python)\n",
        "\n",
        "5. [Print Function and read function](#pfrf)\n",
        "\n",
        "6. [Data Types in Python](#dtip)\n",
        "\n",
        "7. [Identifiers nothing but memory loacations](#inbml)\n",
        "\n",
        "8. [Operators in python](#Operators_in_python)\n",
        "\n",
        "9. [Other Operators](#oo)\n",
        "\n",
        "10. [Operations on Data Types](#oodt)\n",
        "\n",
        "11. [Strings](#s)\n",
        "\n",
        "12. [Built-in Mathematical Functions](#mf)\n",
        "\n",
        "13. [Control statements](#cs)\n",
        "\n",
        "14. [For Loop](#fl)\n",
        "\n",
        "15. [Lists](#lists)\n",
        "\n",
        "16. [Tuples](#tup)\n",
        "\n",
        "17. [Functions](#fun)\n",
        "\n",
        "18. [Questions](#que)\n",
        "\n",
        "19. [Dictionaries](#dict)\n",
        "\n",
        "20. [Sets](#sets)\n",
        "\n",
        "21. [Any Queries](#quer)"
      ]
    },
    {
      "cell_type": "markdown",
      "metadata": {
        "id": "EFWQcKyOV2y9"
      },
      "source": [
        "<a id='his'></a>\n",
        "# History and Importance"
      ]
    },
    {
      "cell_type": "markdown",
      "metadata": {
        "id": "3t0wqVqHV2y_"
      },
      "source": [
        "<center>\n",
        "    <img src = History_of_Python.jpg />\n",
        "    </center>"
      ]
    },
    {
      "cell_type": "markdown",
      "metadata": {
        "id": "oHhwY0wUV2y_"
      },
      "source": [
        "# Python is Everywhere now"
      ]
    },
    {
      "cell_type": "markdown",
      "metadata": {
        "id": "z1jZw259V2zA"
      },
      "source": [
        "<div style=display:flex; flex-direction:column;>\n",
        "      <img src = AI_ML_DL.png width=400 height=400 style=margin-left:-15px/>\n",
        "      <img src = programvsml.png  width=200 height=200/>\n",
        "      <img src = probability_vs_stats.png  width=200 height=200/>\n",
        "    </div>\n",
        "  "
      ]
    },
    {
      "cell_type": "markdown",
      "metadata": {
        "id": "DzO3xyfdV2zB"
      },
      "source": [
        "<a id='Important_Shortcuts'></a>\n",
        "#**Important Shortcuts**\n",
        "\n",
        "*The b key will make a new cell below the currently selected cell.\n",
        "\n",
        "*The a key will make one above.\n",
        "\n",
        "*The x key will delete the current cell."
      ]
    },
    {
      "cell_type": "markdown",
      "metadata": {
        "id": "jUaKc4f9V2zC"
      },
      "source": [
        "\n",
        "<a id='Comments_in_Python'></a>\n",
        "# Comments in Python\n",
        "1. A line preceded by the character ‘#’\n",
        "\n",
        "2. No Block/Multi-line Comment\n",
        "\n",
        "3. Line Continuation with ‘\\’\n",
        "\n",
        "    i.Put a ‘\\’ (backslash) character at the end of the line\n",
        "    \n",
        "    ii.Statements can be continued with ending ‘\\’\n",
        "    \n",
        "\n",
        "    "
      ]
    },
    {
      "cell_type": "code",
      "execution_count": null,
      "metadata": {
        "colab": {
          "base_uri": "https://localhost:8080/"
        },
        "id": "WhetttUYV2zV",
        "outputId": "e2973170-c154-4623-be7b-6731de37b051"
      },
      "outputs": [
        {
          "output_type": "stream",
          "name": "stdout",
          "text": [
            "Python version\n",
            "3.10.12 (main, Mar 22 2024, 16:50:05) [GCC 11.4.0]\n",
            "Version info.\n",
            "sys.version_info(major=3, minor=10, micro=12, releaselevel='final', serial=0)\n"
          ]
        }
      ],
      "source": [
        "import sys\n",
        "print(\"Python version\")\n",
        "print (sys.version)\n",
        "print(\"Version info.\")\n",
        "print (sys.version_info)"
      ]
    },
    {
      "cell_type": "markdown",
      "metadata": {
        "id": "Awu9hjDqV2zW"
      },
      "source": [
        "<a id='Variables_in_Python'></a>\n",
        "# Variables in Python"
      ]
    },
    {
      "cell_type": "markdown",
      "metadata": {
        "id": "pFSqbQAzV2zX"
      },
      "source": [
        "contain letters, digits, and underscores\n",
        "\n",
        "cannot start with digit\n",
        "\n",
        "case sensitive"
      ]
    },
    {
      "cell_type": "code",
      "execution_count": null,
      "metadata": {
        "id": "UEbO_uMnV2zX"
      },
      "outputs": [],
      "source": [
        "age = 38\n",
        "name = 'Pvrao'"
      ]
    },
    {
      "cell_type": "markdown",
      "metadata": {
        "id": "i99jH68MV2zX"
      },
      "source": [
        "<a id='pfrf'></a>\n",
        "# Print Function and read function"
      ]
    },
    {
      "cell_type": "code",
      "execution_count": null,
      "metadata": {
        "id": "dHKgNigMV2zX",
        "outputId": "1c8255ab-aa63-4528-f22a-9c4339fc4744"
      },
      "outputs": [
        {
          "name": "stdout",
          "output_type": "stream",
          "text": [
            "38\n",
            "Pvrao\n"
          ]
        }
      ],
      "source": [
        "print(age)\n",
        "print(name)"
      ]
    },
    {
      "cell_type": "code",
      "execution_count": null,
      "metadata": {
        "id": "T8msloa-V2zY",
        "outputId": "1eac10a4-b390-4924-ed2e-b54f89fb336d"
      },
      "outputs": [
        {
          "name": "stdout",
          "output_type": "stream",
          "text": [
            "age= 38\n",
            "name= Pvrao\n"
          ]
        }
      ],
      "source": [
        "print(\"age=\",age)\n",
        "print(\"name=\",name)"
      ]
    },
    {
      "cell_type": "code",
      "execution_count": null,
      "metadata": {
        "id": "MDn5sXbTV2zY",
        "outputId": "7e2f48f3-c13c-4d0a-ccf5-c41a0cb8e35e"
      },
      "outputs": [
        {
          "name": "stdout",
          "output_type": "stream",
          "text": [
            "Enter the age45\n",
            "45\n"
          ]
        }
      ],
      "source": [
        "age = int(input('Enter the age'))\n",
        "print(age)"
      ]
    },
    {
      "cell_type": "code",
      "execution_count": null,
      "metadata": {
        "id": "E_pHDBPpV2zY",
        "outputId": "dae3a0ca-5702-44e5-a7d5-7a5d6e9c4868"
      },
      "outputs": [
        {
          "name": "stdout",
          "output_type": "stream",
          "text": [
            "Enter namevnr\n",
            "vnr\n"
          ]
        }
      ],
      "source": [
        "name = input('Enter name')\n",
        "print(name)"
      ]
    },
    {
      "cell_type": "markdown",
      "metadata": {
        "id": "03e92q2eV2zZ"
      },
      "source": [
        "# String Formatting"
      ]
    },
    {
      "cell_type": "code",
      "execution_count": null,
      "metadata": {
        "id": "VjD0cbZGV2zZ",
        "outputId": "840d2a0d-5797-4e6f-c6d2-2899056a4f98"
      },
      "outputs": [
        {
          "data": {
            "text/plain": [
              "'      3.14'"
            ]
          },
          "execution_count": 3,
          "metadata": {},
          "output_type": "execute_result"
        }
      ],
      "source": [
        "'%10.2f' % (3.141592653589793,)"
      ]
    },
    {
      "cell_type": "code",
      "execution_count": null,
      "metadata": {
        "id": "_oBvDE6eV2za",
        "outputId": "88016771-ff92-421f-b985-17543f7b4399"
      },
      "outputs": [
        {
          "name": "stdout",
          "output_type": "stream",
          "text": [
            "Python 3.6\n",
            "Pytho 3.7\n"
          ]
        }
      ],
      "source": [
        "strNew = \"{:5s} {:.1f}\".format('Python', 3.64)\n",
        "print(strNew)\n",
        "strNew = \"{:.5s} {:.1f}\".format('Python', 3.66)\n",
        "print(strNew)"
      ]
    },
    {
      "cell_type": "code",
      "execution_count": null,
      "metadata": {
        "id": "nJyC3pvWV2za",
        "outputId": "26f913c2-4956-40a5-a8f4-80dd6e13c417"
      },
      "outputs": [
        {
          "name": "stdout",
          "output_type": "stream",
          "text": [
            "0000003.14\n",
            "2.7183    \n",
            "0000003.14\n",
            "    2.7183\n"
          ]
        }
      ],
      "source": [
        "import math\n",
        "print('%010.2f' % (math.pi,))\n",
        "print('%-10.4f' % (math.e))\n",
        "print('{:010.2f}'.format(math.pi,))\n",
        "print('{:10.4f}'.format(math.e))"
      ]
    },
    {
      "cell_type": "code",
      "execution_count": null,
      "metadata": {
        "id": "DHLIj9uAV2za",
        "outputId": "fbf20827-d5c5-4a4b-a215-6d696aee93c1"
      },
      "outputs": [
        {
          "name": "stdout",
          "output_type": "stream",
          "text": [
            "Python 3\n",
            "Python 3\n",
            "Python 3\n",
            "Python 3\n",
            "Python 3\n",
            "Python 3\n",
            "Python 3\n"
          ]
        }
      ],
      "source": [
        "strOld = \"%s %d\" % ('Python', 3)\n",
        "print(strOld)\n",
        "strNew = \"{} {}\".format('Python', 3)\n",
        "print(strNew)\n",
        "strPos = \"{1} {0}\".format(3, 'Python')\n",
        "print(strPos)\n",
        "strOld = \"%(lang)s %(ver)d\" % {'ver':3, 'lang':'Python'}\n",
        "print(strPos)\n",
        "kwargs = {'ver':3, 'lang':'Python'}\n",
        "strNew1 = \"{lang} {ver}\".format(**kwargs)\n",
        "print(strNew1)\n",
        "strKey2 = \"{lang} {ver}\".format(** {'ver':3, 'lang':'Python'})\n",
        "print(strKey2)\n",
        "strKey3 = \"{lang} {ver}\".format(ver=3, lang='Python')\n",
        "print(strKey3)"
      ]
    },
    {
      "cell_type": "code",
      "execution_count": null,
      "metadata": {
        "id": "4Dbbcm-RV2zb",
        "outputId": "d86fe292-cf9e-4dde-c4ea-3631abe4e6d9"
      },
      "outputs": [
        {
          "name": "stdout",
          "output_type": "stream",
          "text": [
            "Hello World         \n",
            "         Hello World\n",
            "    Hello World     \n",
            "=========Hello World\n",
            "****Hello World*****\n",
            "     3.142\n",
            "000003.142\n",
            "    -3.142\n",
            "-----3.142\n",
            "---3.142--\n",
            "00-3.14200\n"
          ]
        }
      ],
      "source": [
        "text = \"Hello World\"\n",
        "print(format(text, '<20'))\n",
        "print(format(text, '>20'))\n",
        "print(format(text, '^20'))\n",
        "print(format(text, '=>20s'))\n",
        "print(format(text, '*^20s'))\n",
        "import math\n",
        "print(format(math.pi, '>10.4'))\n",
        "print(format(math.pi, '>010.4'))\n",
        "print(format(-math.pi, '>-10.4'))\n",
        "print(format(-math.pi, '->10.4'))\n",
        "print(format(-math.pi, '-^10.4'))\n",
        "print(format(-math.pi, '0^10.4'))"
      ]
    },
    {
      "cell_type": "markdown",
      "metadata": {
        "id": "gtzBg-3xV2zb"
      },
      "source": [
        "<a id='dtip'></a>\n",
        "# Data Types in Python\n",
        "\n",
        "1. String\n",
        "2. Int\n",
        "3. Float\n",
        "4. Bool"
      ]
    },
    {
      "cell_type": "code",
      "execution_count": null,
      "metadata": {
        "id": "OiNIAdygV2zb"
      },
      "outputs": [],
      "source": [
        "ex_string = 'Hello World!'\n",
        "ex_int = 8\n",
        "ex_float = 12.5\n",
        "ex_bool = False"
      ]
    },
    {
      "cell_type": "code",
      "source": [
        "print(ex_string)\n",
        "print(ex_int)\n",
        "print(ex_float)\n",
        "print(ex_bool)"
      ],
      "metadata": {
        "colab": {
          "base_uri": "https://localhost:8080/"
        },
        "id": "_HO2Fookrx2O",
        "outputId": "33d3812d-111f-4e74-df4e-21984669f3dd"
      },
      "execution_count": null,
      "outputs": [
        {
          "output_type": "stream",
          "name": "stdout",
          "text": [
            "Hello World!\n",
            "8\n",
            "12.5\n",
            "False\n"
          ]
        }
      ]
    },
    {
      "cell_type": "markdown",
      "source": [
        "Display book information like title, author, cost, quantity, ispdfavailble"
      ],
      "metadata": {
        "id": "K1X1y2i1spgA"
      }
    },
    {
      "cell_type": "code",
      "execution_count": null,
      "metadata": {
        "id": "FVwhYk3kV2zb",
        "outputId": "b981db1e-f013-47a0-97e9-81a3d0e80248"
      },
      "outputs": [
        {
          "name": "stdout",
          "output_type": "stream",
          "text": [
            "<class 'str'>\n",
            "<class 'int'>\n",
            "<class 'float'>\n",
            "<class 'bool'>\n"
          ]
        }
      ],
      "source": [
        "print(type(ex_string))\n",
        "print(type(ex_int))\n",
        "print(type(ex_float))\n",
        "print(type(ex_bool))"
      ]
    },
    {
      "cell_type": "code",
      "execution_count": null,
      "metadata": {
        "id": "8oChUiaMV2zc",
        "outputId": "1fd36752-123b-4109-ba7f-5ebc77b572da"
      },
      "outputs": [
        {
          "data": {
            "text/plain": [
              "str"
            ]
          },
          "execution_count": 11,
          "metadata": {},
          "output_type": "execute_result"
        }
      ],
      "source": [
        "type(ex_string)"
      ]
    },
    {
      "cell_type": "code",
      "execution_count": null,
      "metadata": {
        "id": "kowxYu9rV2zc",
        "outputId": "128880e1-a94c-407a-a0d8-07b399814723"
      },
      "outputs": [
        {
          "data": {
            "text/plain": [
              "int"
            ]
          },
          "execution_count": 12,
          "metadata": {},
          "output_type": "execute_result"
        }
      ],
      "source": [
        "type(ex_int)"
      ]
    },
    {
      "cell_type": "code",
      "execution_count": null,
      "metadata": {
        "id": "BszEc2TDV2zc",
        "outputId": "8b8e0103-3ef1-497e-8c1e-388b3ea0e1e2"
      },
      "outputs": [
        {
          "data": {
            "text/plain": [
              "float"
            ]
          },
          "execution_count": 13,
          "metadata": {},
          "output_type": "execute_result"
        }
      ],
      "source": [
        "type(ex_float)"
      ]
    },
    {
      "cell_type": "code",
      "execution_count": null,
      "metadata": {
        "id": "HyMA1KANV2zd",
        "outputId": "244d38a7-a703-4563-c5e7-6c0a7a0e9d8d"
      },
      "outputs": [
        {
          "data": {
            "text/plain": [
              "bool"
            ]
          },
          "execution_count": 14,
          "metadata": {},
          "output_type": "execute_result"
        }
      ],
      "source": [
        "type(ex_bool)"
      ]
    },
    {
      "cell_type": "code",
      "execution_count": null,
      "metadata": {
        "id": "Jxq1yG55V2zd",
        "outputId": "05b29d49-0781-4b82-d72d-def58f67bd73"
      },
      "outputs": [
        {
          "name": "stdout",
          "output_type": "stream",
          "text": [
            "25\n",
            "0b11001\n"
          ]
        }
      ],
      "source": [
        "a = 0b1111  #0o for octal #0x for hexa\n",
        "b = 0b1010\n",
        "print(a+b)\n",
        "print(bin(a+b))"
      ]
    },
    {
      "cell_type": "code",
      "execution_count": null,
      "metadata": {
        "id": "trpcsi1cV2zd",
        "outputId": "adfcac99-f502-49df-b490-471d4dbc0706"
      },
      "outputs": [
        {
          "data": {
            "text/plain": [
              "'Hello World!'"
            ]
          },
          "execution_count": 20,
          "metadata": {},
          "output_type": "execute_result"
        }
      ],
      "source": [
        "ex_string"
      ]
    },
    {
      "cell_type": "code",
      "execution_count": null,
      "metadata": {
        "id": "zQf-ZuitV2zd",
        "outputId": "88240025-9092-4eb1-c872-5b0df0cef4b5"
      },
      "outputs": [
        {
          "name": "stdout",
          "output_type": "stream",
          "text": [
            "Hello World!\n"
          ]
        }
      ],
      "source": [
        "print(ex_string)"
      ]
    },
    {
      "cell_type": "markdown",
      "metadata": {
        "id": "KWrnLn69V2ze"
      },
      "source": [
        "<a id='inbml'></a>\n",
        "# Identifiers nothing but memory loacations"
      ]
    },
    {
      "cell_type": "code",
      "execution_count": null,
      "metadata": {
        "id": "u1OoUo5UV2ze",
        "outputId": "ccd88ea1-2373-44b1-e12b-23ca20168ed1"
      },
      "outputs": [
        {
          "data": {
            "text/plain": [
              "2517321695728"
            ]
          },
          "execution_count": 3,
          "metadata": {},
          "output_type": "execute_result"
        }
      ],
      "source": [
        "id(ex_string)"
      ]
    },
    {
      "cell_type": "code",
      "execution_count": null,
      "metadata": {
        "id": "Wu3gdu09V2ze"
      },
      "outputs": [],
      "source": [
        "ex_int_2 = ex_int"
      ]
    },
    {
      "cell_type": "code",
      "execution_count": null,
      "metadata": {
        "id": "8ImUyud4V2ze",
        "outputId": "33b5c7b9-ec1c-4a41-ce38-ecc3b833a2d3"
      },
      "outputs": [
        {
          "data": {
            "text/plain": [
              "140731260772976"
            ]
          },
          "execution_count": 5,
          "metadata": {},
          "output_type": "execute_result"
        }
      ],
      "source": [
        "id(ex_int)"
      ]
    },
    {
      "cell_type": "code",
      "execution_count": null,
      "metadata": {
        "id": "jmYImaWQV2ze",
        "outputId": "bf509605-ec6e-4e94-e164-7410132323be"
      },
      "outputs": [
        {
          "data": {
            "text/plain": [
              "140731260772976"
            ]
          },
          "execution_count": 6,
          "metadata": {},
          "output_type": "execute_result"
        }
      ],
      "source": [
        "id(ex_int_2)"
      ]
    },
    {
      "cell_type": "code",
      "execution_count": null,
      "metadata": {
        "id": "ibh7akTHV2zk",
        "outputId": "b6de91dc-0820-4107-a2f2-4575a7ac1584"
      },
      "outputs": [
        {
          "data": {
            "text/plain": [
              "20"
            ]
          },
          "execution_count": 7,
          "metadata": {},
          "output_type": "execute_result"
        }
      ],
      "source": [
        "ex_int + 12"
      ]
    },
    {
      "cell_type": "code",
      "execution_count": null,
      "metadata": {
        "id": "J4RozUUgV2zk"
      },
      "outputs": [],
      "source": [
        "ex_float = ex_float + 7"
      ]
    },
    {
      "cell_type": "code",
      "execution_count": null,
      "metadata": {
        "id": "V7FvyxJFV2zl",
        "outputId": "7a7496dc-3dcd-4bf5-cf70-7a92749504c2"
      },
      "outputs": [
        {
          "name": "stdout",
          "output_type": "stream",
          "text": [
            "19.5\n"
          ]
        }
      ],
      "source": [
        "print(ex_float)"
      ]
    },
    {
      "cell_type": "markdown",
      "metadata": {
        "id": "Bijmr-ydV2zl"
      },
      "source": [
        "<a id='Operators_in_python'></a>\n",
        "# Operators in python"
      ]
    },
    {
      "cell_type": "code",
      "execution_count": null,
      "metadata": {
        "colab": {
          "base_uri": "https://localhost:8080/"
        },
        "id": "CpZQ4POSV2zl",
        "outputId": "46ff6591-b90c-481c-f2f5-fe7401e59329"
      },
      "outputs": [
        {
          "output_type": "stream",
          "name": "stdout",
          "text": [
            "3\n",
            "-1\n",
            "2\n",
            "0.8\n",
            "0\n"
          ]
        }
      ],
      "source": [
        "\n",
        "# Addition:\n",
        "print(1 + 2)\n",
        "# Subtraction:\n",
        "print(1 - 2)\n",
        "# Multiplication:\n",
        "print(1 * 2)\n",
        "# Division:\n",
        "print(4 / 5) #Float division\n",
        "print(4//5) #Integer Division"
      ]
    },
    {
      "cell_type": "markdown",
      "source": [
        "Declare two variables apples and oranges and apply all arithmatical operators"
      ],
      "metadata": {
        "id": "hSr6r-myvr2Z"
      }
    },
    {
      "cell_type": "code",
      "execution_count": null,
      "metadata": {
        "id": "5PNU8Pm0V2zm",
        "outputId": "786ce168-0c36-4253-be9b-38e5db20728b"
      },
      "outputs": [
        {
          "name": "stdout",
          "output_type": "stream",
          "text": [
            "2\n",
            "-2.0\n"
          ]
        }
      ],
      "source": [
        "# Division of float numbers:\n",
        "print(4 // 2)\n",
        "print(-3.0 // 2)"
      ]
    },
    {
      "cell_type": "code",
      "execution_count": null,
      "metadata": {
        "id": "ll-jgPwNV2zm",
        "outputId": "c9eeb923-83b9-4d46-d52b-9d93b52f441f"
      },
      "outputs": [
        {
          "data": {
            "text/plain": [
              "4294967296"
            ]
          },
          "execution_count": 24,
          "metadata": {},
          "output_type": "execute_result"
        }
      ],
      "source": [
        "# Exponent power operator:\n",
        "2 ** 2 **5"
      ]
    },
    {
      "cell_type": "code",
      "execution_count": null,
      "metadata": {
        "id": "H2gUTHjBV2zm",
        "outputId": "9e9f2286-6d89-4f09-fa81-b96cd338c3d8"
      },
      "outputs": [
        {
          "data": {
            "text/plain": [
              "1"
            ]
          },
          "execution_count": 149,
          "metadata": {},
          "output_type": "execute_result"
        }
      ],
      "source": [
        "# Module can be used to get the remainder:\n",
        "5%2"
      ]
    },
    {
      "cell_type": "markdown",
      "source": [
        "Program for simple interest and area of circle"
      ],
      "metadata": {
        "id": "J6wGM36HydBd"
      }
    },
    {
      "cell_type": "code",
      "execution_count": null,
      "metadata": {
        "id": "e0H3ONY4V2zm"
      },
      "outputs": [],
      "source": [
        "import math"
      ]
    },
    {
      "cell_type": "code",
      "execution_count": null,
      "metadata": {
        "id": "UTxZGyksV2zn"
      },
      "outputs": [],
      "source": [
        "math."
      ]
    },
    {
      "cell_type": "code",
      "execution_count": null,
      "metadata": {
        "id": "pLV_UAEaV2zn",
        "outputId": "3040c881-c718-4145-9a5c-f43fa70f259a"
      },
      "outputs": [
        {
          "data": {
            "text/plain": [
              "1220136825991110068701238785423046926253574342803192842192413588385845373153881997605496447502203281863013616477148203584163378722078177200480785205159329285477907571939330603772960859086270429174547882424912726344305670173270769461062802310452644218878789465754777149863494367781037644274033827365397471386477878495438489595537537990423241061271326984327745715546309977202781014561081188373709531016356324432987029563896628911658974769572087926928871281780070265174507768410719624390394322536422605234945850129918571501248706961568141625359056693423813008856249246891564126775654481886506593847951775360894005745238940335798476363944905313062323749066445048824665075946735862074637925184200459369692981022263971952597190945217823331756934581508552332820762820023402626907898342451712006207714640979456116127629145951237229913340169552363850942885592018727433795173014586357570828355780158735432768888680120399882384702151467605445407663535984174430480128938313896881639487469658817504506926365338175055478128640000000000000000000000000000000000000000000000000000000000000000000000000000000000000000000000000000000000000000000000000000"
            ]
          },
          "execution_count": 3,
          "metadata": {},
          "output_type": "execute_result"
        }
      ],
      "source": [
        "math.factorial(500)"
      ]
    },
    {
      "cell_type": "markdown",
      "metadata": {
        "id": "nhICt2a_V2zn"
      },
      "source": [
        "<a id='oo'></a>\n",
        "# Other operators"
      ]
    },
    {
      "cell_type": "code",
      "execution_count": null,
      "metadata": {
        "id": "GHN5B8AiV2zn",
        "outputId": "5fd52a62-dec5-4f87-dec4-3be8abc2bede"
      },
      "outputs": [
        {
          "data": {
            "text/plain": [
              "False"
            ]
          },
          "execution_count": 150,
          "metadata": {},
          "output_type": "execute_result"
        }
      ],
      "source": [
        "True and False"
      ]
    },
    {
      "cell_type": "code",
      "execution_count": null,
      "metadata": {
        "id": "TyN0gWFnV2zo",
        "outputId": "c59f80fc-90e3-4fdb-9cd1-6ac1bbfe9bcc"
      },
      "outputs": [
        {
          "data": {
            "text/plain": [
              "True"
            ]
          },
          "execution_count": 151,
          "metadata": {},
          "output_type": "execute_result"
        }
      ],
      "source": [
        "not False"
      ]
    },
    {
      "cell_type": "code",
      "execution_count": null,
      "metadata": {
        "id": "SwhSr8RBV2zo",
        "outputId": "8f007745-c8ac-41ae-e6bf-106f8bf8eb4b"
      },
      "outputs": [
        {
          "data": {
            "text/plain": [
              "True"
            ]
          },
          "execution_count": 152,
          "metadata": {},
          "output_type": "execute_result"
        }
      ],
      "source": [
        "True or False"
      ]
    },
    {
      "cell_type": "code",
      "execution_count": null,
      "metadata": {
        "id": "BIEyqR5aV2zo",
        "outputId": "fa0825ba-d057-457f-f725-eb0611206f7f"
      },
      "outputs": [
        {
          "data": {
            "text/plain": [
              "(True, False, False, False, True, True)"
            ]
          },
          "execution_count": 1,
          "metadata": {},
          "output_type": "execute_result"
        }
      ],
      "source": [
        "2 > 1, 2 < 1, 2 > 2, 2 < 2, 2 >= 2, 2 <= 2"
      ]
    },
    {
      "cell_type": "code",
      "execution_count": null,
      "metadata": {
        "id": "47ejeD3xV2zo",
        "outputId": "38434a6a-ac53-43d1-f164-c32adddd891f"
      },
      "outputs": [
        {
          "data": {
            "text/plain": [
              "(True, True)"
            ]
          },
          "execution_count": 154,
          "metadata": {},
          "output_type": "execute_result"
        }
      ],
      "source": [
        "# equality\n",
        "[1,2] == [1,2], [1,2] != [2,1]"
      ]
    },
    {
      "cell_type": "code",
      "execution_count": null,
      "metadata": {
        "id": "GCpu0F40V2zp",
        "outputId": "9d54e16e-1c39-4fd8-8042-3ea2ae504e61"
      },
      "outputs": [
        {
          "name": "stdout",
          "output_type": "stream",
          "text": [
            "2417851639229258349412352\n",
            "18446744073709551616\n",
            "False\n",
            "2\n",
            "0b10010\n",
            "0b11\n",
            "0b11000\n",
            "0o30\n",
            "0x18\n",
            "7\n",
            "3\n",
            "64\n",
            "8\n"
          ]
        }
      ],
      "source": [
        "#comparision operators\n",
        "\n",
        "p = 2**3**4\n",
        "print(p)\n",
        "q = 2**(4**3)\n",
        "print(q)\n",
        "print(p==q)\n",
        "print(18 & 3)\n",
        "print(bin(18))\n",
        "print(bin(3))\n",
        "\n",
        "\n",
        "print(bin(24))\n",
        "print(oct(24))\n",
        "print(hex(24))\n",
        "a=5\n",
        "b=6\n",
        "d=5|6\n",
        "print(d)\n",
        "\n",
        "print(5^6)\n",
        "\n",
        "\n",
        "###shift opertators\n",
        "\n",
        "print(4 <<4)\n",
        "print(64 >> 3)"
      ]
    },
    {
      "cell_type": "code",
      "execution_count": null,
      "metadata": {
        "id": "-vOSOsR-V2zp",
        "outputId": "71ee0f51-429f-4c46-8149-6b9670dba6cd"
      },
      "outputs": [
        {
          "name": "stdout",
          "output_type": "stream",
          "text": [
            "96\n"
          ]
        }
      ],
      "source": [
        "print(3<<5)"
      ]
    },
    {
      "cell_type": "markdown",
      "metadata": {
        "id": "dff0S7UfV2zq"
      },
      "source": [
        "<a id='oodt'></a>\n",
        "# Operations on Data Types"
      ]
    },
    {
      "cell_type": "code",
      "execution_count": null,
      "metadata": {
        "id": "7kV8TtGdV2zq",
        "outputId": "56bc830b-d478-4d65-ec77-800803838f04"
      },
      "outputs": [
        {
          "data": {
            "text/plain": [
              "'Vnr vjiet'"
            ]
          },
          "execution_count": 26,
          "metadata": {},
          "output_type": "execute_result"
        }
      ],
      "source": [
        "'Vnr' + ' ' + 'vjiet'"
      ]
    },
    {
      "cell_type": "code",
      "execution_count": null,
      "metadata": {
        "id": "ADYv0_P4V2zr",
        "outputId": "87aab6ed-41d2-4614-d1ed-4991b6000bf5"
      },
      "outputs": [
        {
          "data": {
            "text/plain": [
              "'Vnr Vjiet Vnr Vjiet Vnr Vjiet Vnr Vjiet Vnr Vjiet Vnr Vjiet Vnr Vjiet '"
            ]
          },
          "execution_count": 27,
          "metadata": {},
          "output_type": "execute_result"
        }
      ],
      "source": [
        "'Vnr Vjiet '*7"
      ]
    },
    {
      "cell_type": "code",
      "execution_count": null,
      "metadata": {
        "id": "ysqVCbaiV2zr",
        "outputId": "979a86a5-0b19-450e-ba93-bed974a55954"
      },
      "outputs": [
        {
          "data": {
            "text/plain": [
              "9"
            ]
          },
          "execution_count": 31,
          "metadata": {},
          "output_type": "execute_result"
        }
      ],
      "source": [
        "len('Vnr Vjiet')"
      ]
    },
    {
      "cell_type": "code",
      "execution_count": null,
      "metadata": {
        "id": "PhmTRTJ-V2zs",
        "outputId": "a7e22cb9-f81f-4bc7-85a3-8d6beb283d6e"
      },
      "outputs": [
        {
          "data": {
            "text/plain": [
              "5"
            ]
          },
          "execution_count": 31,
          "metadata": {},
          "output_type": "execute_result"
        }
      ],
      "source": [
        "1 + int('4')"
      ]
    },
    {
      "cell_type": "code",
      "execution_count": null,
      "metadata": {
        "id": "S_FC0zllV2zt",
        "outputId": "57f7558b-bb59-41c2-f9ff-9aa9fbf7ae34"
      },
      "outputs": [
        {
          "data": {
            "text/plain": [
              "12"
            ]
          },
          "execution_count": 32,
          "metadata": {},
          "output_type": "execute_result"
        }
      ],
      "source": [
        "int(12.9)"
      ]
    },
    {
      "cell_type": "code",
      "execution_count": null,
      "metadata": {
        "id": "xcxVwoWOV2zt",
        "outputId": "1d04b091-969e-46ef-8ea7-8935db48fcf3"
      },
      "outputs": [
        {
          "name": "stdout",
          "output_type": "stream",
          "text": [
            "4.0\n"
          ]
        }
      ],
      "source": [
        "second = \"2\"\n",
        "print(2.0 * float(second))"
      ]
    },
    {
      "cell_type": "code",
      "execution_count": null,
      "metadata": {
        "id": "5Fl0cVadV2zt",
        "outputId": "f70eeca9-21bb-4ffc-bc1f-1891f22860ea"
      },
      "outputs": [
        {
          "name": "stdout",
          "output_type": "stream",
          "text": [
            " Size of int:  28 \n",
            " Size of float:  24 \n",
            " Size of complex:  32 \n",
            " Size of empty List:  64 \n",
            " Size of List with 1 item:  72 \n",
            " Size of List with 2 items:  80 \n",
            " Size of empty Tuple:  48 \n",
            " Size of Tuple with 1 item:  28 \n",
            " Size of Tuple with 2 items:  64 \n",
            " Size of Tuple with 3 items:  72 \n",
            " Size of empty Set:  240 \n",
            " Size of Set with 1 item:  224 \n",
            " Size of Set with 2 items:  224 \n",
            " Size of Dict with 1 item:  240 \n",
            " Size of Dict with 2 items:  240\n"
          ]
        }
      ],
      "source": [
        "import sys\n",
        "print(\" Size of int: \", sys.getsizeof(10), \"\\n\",\n",
        "\"Size of float: \", sys.getsizeof(10.3), \"\\n\",\n",
        "\"Size of complex: \", sys.getsizeof(2+3j), \"\\n\",\n",
        "\"Size of empty List: \", sys.getsizeof([]), \"\\n\",\n",
        "\"Size of List with 1 item: \", sys.getsizeof([1]), \"\\n\",\n",
        "\"Size of List with 2 items: \", sys.getsizeof([1,2]), \"\\n\",\n",
        "\"Size of empty Tuple: \", sys.getsizeof(()), \"\\n\",\n",
        "\"Size of Tuple with 1 item: \", sys.getsizeof((1)), \"\\n\",\n",
        "\"Size of Tuple with 2 items: \", sys.getsizeof((1,2)), \"\\n\",\n",
        "\"Size of Tuple with 3 items: \", sys.getsizeof((1,2,3)), \"\\n\",\n",
        "\"Size of empty Set: \", sys.getsizeof({}), \"\\n\",\n",
        "\"Size of Set with 1 item: \", sys.getsizeof({1}), \"\\n\",\n",
        "\"Size of Set with 2 items: \", sys.getsizeof({1,2}), \"\\n\",\n",
        "\"Size of Dict with 1 item: \", sys.getsizeof({\"n\":1}), \"\\n\",\n",
        "\"Size of Dict with 2 items: \", sys.getsizeof({\"n\":1, \"m\":2}))"
      ]
    },
    {
      "cell_type": "markdown",
      "metadata": {
        "id": "wlKwSpywV2zt"
      },
      "source": [
        "# Question\n",
        "\n",
        "Which of the following would return a float of 2.0?\n",
        "\n",
        "first = 1.0 second = \"2\" third = \"3.3\"\n",
        "\n",
        "first + float(second)\n",
        "\n",
        "float(second) + float(third)\n",
        "\n",
        "first + int(third)\n",
        "\n",
        "first + int(float(third))\n",
        "\n",
        "int(first) + int(float(third))\n",
        "\n",
        "2.0 * second"
      ]
    },
    {
      "cell_type": "markdown",
      "metadata": {
        "id": "3WIGSic5V2zu"
      },
      "source": [
        "<a id='s'></a>\n",
        "# Strings"
      ]
    },
    {
      "cell_type": "code",
      "execution_count": null,
      "metadata": {
        "id": "UIV8pZTyV2zu",
        "outputId": "c5293206-b800-4a5b-9ecf-97c0e265c44e"
      },
      "outputs": [
        {
          "name": "stdout",
          "output_type": "stream",
          "text": [
            "11\n"
          ]
        },
        {
          "data": {
            "text/plain": [
              "'o'"
            ]
          },
          "execution_count": 1,
          "metadata": {},
          "output_type": "execute_result"
        }
      ],
      "source": [
        "s = \"Hello world\"\n",
        "type(s)\n",
        "print(len(s))\n",
        "# Indexing the first (index 0) character in the string:\n",
        "s[4]\n"
      ]
    },
    {
      "cell_type": "code",
      "execution_count": null,
      "metadata": {
        "id": "VTlkgB1bV2zu",
        "outputId": "c8d6673e-eb32-403b-cf77-3bbc4ea9380d"
      },
      "outputs": [
        {
          "data": {
            "text/plain": [
              "'Hell'"
            ]
          },
          "execution_count": 2,
          "metadata": {},
          "output_type": "execute_result"
        }
      ],
      "source": [
        "# This is called *slicing*. We start at the left index\n",
        "#   and go up to but don't include the right index:\n",
        "\n",
        "# Objects at indexes 0, 1, and 2\n",
        "s[0:4]"
      ]
    },
    {
      "cell_type": "code",
      "execution_count": null,
      "metadata": {
        "id": "IAn5BC63V2zu",
        "outputId": "86d56653-ef52-4174-bb19-86baad914b64"
      },
      "outputs": [
        {
          "data": {
            "text/plain": [
              "'world'"
            ]
          },
          "execution_count": 3,
          "metadata": {},
          "output_type": "execute_result"
        }
      ],
      "source": [
        "# From index 6 up to the end of the string:\n",
        "s[6:]"
      ]
    },
    {
      "cell_type": "code",
      "execution_count": null,
      "metadata": {
        "id": "asusw8O_V2zv",
        "outputId": "8c1b8892-810f-4f41-c38d-698eac89d401"
      },
      "outputs": [
        {
          "data": {
            "text/plain": [
              "'Hello world'"
            ]
          },
          "execution_count": 4,
          "metadata": {},
          "output_type": "execute_result"
        }
      ],
      "source": [
        "# No start or end specified:\n",
        "s[:]"
      ]
    },
    {
      "cell_type": "code",
      "execution_count": null,
      "metadata": {
        "id": "gWsXvyvBV2zv",
        "outputId": "0da75fd0-331e-4e22-8455-ee748899c98e"
      },
      "outputs": [
        {
          "data": {
            "text/plain": [
              "'r'"
            ]
          },
          "execution_count": 5,
          "metadata": {},
          "output_type": "execute_result"
        }
      ],
      "source": [
        "# Can we index from the right side?\n",
        "s[-3]"
      ]
    },
    {
      "cell_type": "code",
      "execution_count": null,
      "metadata": {
        "id": "3z2tqcE1V2zv",
        "outputId": "d6aab27b-6d05-47f9-b6a7-ec184445583d"
      },
      "outputs": [
        {
          "data": {
            "text/plain": [
              "'ello wo'"
            ]
          },
          "execution_count": 6,
          "metadata": {},
          "output_type": "execute_result"
        }
      ],
      "source": [
        "s[1:-3]"
      ]
    },
    {
      "cell_type": "markdown",
      "metadata": {
        "id": "tD_MrXD9V2zv"
      },
      "source": [
        "In addition to specifying a range, you can add a step size or character skip rate."
      ]
    },
    {
      "cell_type": "code",
      "execution_count": null,
      "metadata": {
        "id": "HrqIk9ELV2zw",
        "outputId": "49e9431a-153e-409e-b978-8b518d8694a6"
      },
      "outputs": [
        {
          "data": {
            "text/plain": [
              "'Hlwl'"
            ]
          },
          "execution_count": 7,
          "metadata": {},
          "output_type": "execute_result"
        }
      ],
      "source": [
        "# Define a step size of 2, i.e., every other character:\n",
        "s[::3]"
      ]
    },
    {
      "cell_type": "code",
      "execution_count": null,
      "metadata": {
        "id": "IFCQQs3GV2zw"
      },
      "outputs": [],
      "source": [
        "album = 'Vnr vjiet'"
      ]
    },
    {
      "cell_type": "code",
      "execution_count": null,
      "metadata": {
        "scrolled": true,
        "id": "GmrDmsGmV2zw",
        "outputId": "fe8850c7-f4b4-4407-d025-00eda54dd65d"
      },
      "outputs": [
        {
          "name": "stdout",
          "output_type": "stream",
          "text": [
            "V\n"
          ]
        }
      ],
      "source": [
        "print(album[0])"
      ]
    },
    {
      "cell_type": "code",
      "execution_count": null,
      "metadata": {
        "id": "bWJi_vkbV2zw",
        "outputId": "c2f10b91-e154-4c2d-c6b8-9dc8d04f27bc"
      },
      "outputs": [
        {
          "data": {
            "text/plain": [
              "'Vnr '"
            ]
          },
          "execution_count": 10,
          "metadata": {},
          "output_type": "execute_result"
        }
      ],
      "source": [
        "album[0:4]"
      ]
    },
    {
      "cell_type": "code",
      "execution_count": null,
      "metadata": {
        "id": "oREte379V2zx",
        "outputId": "732ce131-4aeb-43fd-d2ee-93d72e529eb1"
      },
      "outputs": [
        {
          "data": {
            "text/plain": [
              "'vjiet'"
            ]
          },
          "execution_count": 11,
          "metadata": {},
          "output_type": "execute_result"
        }
      ],
      "source": [
        "album[4:]"
      ]
    },
    {
      "cell_type": "code",
      "execution_count": null,
      "metadata": {
        "id": "RstRoMD9V2z2",
        "outputId": "c9bfbb85-b44e-4197-a9c0-71543f586ffe"
      },
      "outputs": [
        {
          "data": {
            "text/plain": [
              "9"
            ]
          },
          "execution_count": 12,
          "metadata": {},
          "output_type": "execute_result"
        }
      ],
      "source": [
        "len(album)"
      ]
    },
    {
      "cell_type": "code",
      "execution_count": null,
      "metadata": {
        "id": "SESliQcFV2z3",
        "outputId": "a16d2736-8445-4ed1-ff12-b27990615cfe"
      },
      "outputs": [
        {
          "data": {
            "text/plain": [
              "<function str.rsplit(sep=None, maxsplit=-1)>"
            ]
          },
          "execution_count": 14,
          "metadata": {},
          "output_type": "execute_result"
        }
      ],
      "source": [
        "s = \"Hello world\"\n",
        "type(s)\n",
        "s.rsplit\n",
        "#help(s.rsplit)"
      ]
    },
    {
      "cell_type": "code",
      "execution_count": null,
      "metadata": {
        "id": "k5Ib5iGXV2z3",
        "outputId": "98905b28-07f6-44c9-cb37-c79ce1b49042"
      },
      "outputs": [
        {
          "name": "stdout",
          "output_type": "stream",
          "text": [
            "Hello test\n"
          ]
        }
      ],
      "source": [
        "s2 = s.replace(\"world\", \"test\")\n",
        "print(s2)"
      ]
    },
    {
      "cell_type": "markdown",
      "metadata": {
        "id": "ra4vV0__V2z4"
      },
      "source": [
        "# PROBLEMS\n",
        "\n",
        "What is the final value of new_record in program below?\n",
        "\n",
        "1. What is the output if we print new_record.\n",
        "\n",
        "    record = 'Scorpion'\n",
        "    \n",
        "    new_record = record\n",
        "    \n",
        "    record = 'God's Plan'\n",
        "\n",
        "2. If a = 1532, what does a[2] return?\n",
        "\n",
        "\n",
        "3. What does the following print?\n",
        "\n",
        "    record = 'Scorpion'\n",
        "    \n",
        "    print(f\"Drake's album {record} is lyrically dense\")\n",
        "  \n",
        "  \n",
        "4. Given some string variable thing:\n",
        "\n",
        "    What does thing[low:high] do?\n",
        "\n",
        "    What does thing[low:] (without a value after the colon) do?\n",
        "\n",
        "    What does thing[:high] (without a value before the colon) do?\n",
        "\n",
        "    What does thing[:] (just a colon) do?\n",
        "\n",
        "    What does thing[number:some-negative-number] do?\n",
        "\n",
        "    What happens when you choose a high value which is out of range? (i.e., try album[15])\n",
        "    \n",
        "5. Add two binary numbers abd print their result in octal form.\n",
        "\n",
        "6. Add two hexa decimal numbers and print their result in binary form."
      ]
    },
    {
      "cell_type": "markdown",
      "metadata": {
        "id": "fDyijgzOV2z4"
      },
      "source": [
        "<a id='mf'></a>\n",
        "# Built-in Mathematical Functions"
      ]
    },
    {
      "cell_type": "code",
      "execution_count": null,
      "metadata": {
        "id": "q7vinQ9VV2z4",
        "outputId": "6783f510-2a45-4d58-fc13-3f3bc2332e0e"
      },
      "outputs": [
        {
          "name": "stdout",
          "output_type": "stream",
          "text": [
            "Vnr Vjiet will open after lockdown\n"
          ]
        }
      ],
      "source": [
        "print('Vnr Vjiet will open after lockdown')"
      ]
    },
    {
      "cell_type": "code",
      "execution_count": null,
      "metadata": {
        "id": "q6rBnqSyV2z4",
        "outputId": "ec21cb4a-9dcd-444e-aa85-d3d88512e061"
      },
      "outputs": [
        {
          "data": {
            "text/plain": [
              "6"
            ]
          },
          "execution_count": 74,
          "metadata": {},
          "output_type": "execute_result"
        }
      ],
      "source": [
        "max(3, 6, 5)"
      ]
    },
    {
      "cell_type": "code",
      "execution_count": null,
      "metadata": {
        "id": "3GIBxaMbV2z5",
        "outputId": "314e428a-e640-46fc-f803-53bafdcfbf08"
      },
      "outputs": [
        {
          "data": {
            "text/plain": [
              "2"
            ]
          },
          "execution_count": 75,
          "metadata": {},
          "output_type": "execute_result"
        }
      ],
      "source": [
        "min(5, 3, 2)"
      ]
    },
    {
      "cell_type": "code",
      "execution_count": null,
      "metadata": {
        "id": "1Xfbe22lV2z5",
        "outputId": "1b424c79-60f2-48be-a21a-898e5df42265"
      },
      "outputs": [
        {
          "data": {
            "text/plain": [
              "5.333"
            ]
          },
          "execution_count": 15,
          "metadata": {},
          "output_type": "execute_result"
        }
      ],
      "source": [
        "round(5.3326, 3)"
      ]
    },
    {
      "cell_type": "code",
      "execution_count": null,
      "metadata": {
        "id": "xq0f-QIXV2z5",
        "outputId": "caf27a1d-5288-4d06-e4a8-44a63d8f746c"
      },
      "outputs": [
        {
          "data": {
            "text/plain": [
              "5.9"
            ]
          },
          "execution_count": 16,
          "metadata": {},
          "output_type": "execute_result"
        }
      ],
      "source": [
        "round(5.88, 1)"
      ]
    },
    {
      "cell_type": "code",
      "execution_count": null,
      "metadata": {
        "id": "FSAWUFqCV2z5"
      },
      "outputs": [],
      "source": [
        "weight = 60.1543"
      ]
    },
    {
      "cell_type": "code",
      "execution_count": null,
      "metadata": {
        "id": "_ExRnx7LV2z6",
        "outputId": "ed6022e5-88f2-4b77-d6ec-6a436ab53a10"
      },
      "outputs": [
        {
          "name": "stdout",
          "output_type": "stream",
          "text": [
            "My suitcase weighs  60.15\n"
          ]
        }
      ],
      "source": [
        "print(f\"My suitcase weighs {weight: .2f}\")"
      ]
    },
    {
      "cell_type": "code",
      "execution_count": null,
      "metadata": {
        "id": "i_yo-sXDV2z6",
        "outputId": "d9b97092-054b-4dd2-825d-c50b614208ab"
      },
      "outputs": [
        {
          "name": "stdout",
          "output_type": "stream",
          "text": [
            "My suitcase weighs 60.15\n"
          ]
        }
      ],
      "source": [
        "print(\"My suitcase weighs {:.2f}\".format(weight))"
      ]
    },
    {
      "cell_type": "code",
      "execution_count": null,
      "metadata": {
        "id": "oX7UlxpGV2z6",
        "outputId": "bf5dceff-2e9d-4d60-9afa-4fd69be56c08"
      },
      "outputs": [
        {
          "name": "stdout",
          "output_type": "stream",
          "text": [
            "z\n"
          ]
        }
      ],
      "source": [
        "easy_string = \"0zABc\"\n",
        "print(max(easy_string))"
      ]
    },
    {
      "cell_type": "code",
      "execution_count": null,
      "metadata": {
        "id": "Zt_oC43QV2z7",
        "outputId": "c8327b71-58c6-4daa-d936-1f4166094685"
      },
      "outputs": [
        {
          "data": {
            "text/plain": [
              "'0ZABC'"
            ]
          },
          "execution_count": 21,
          "metadata": {},
          "output_type": "execute_result"
        }
      ],
      "source": [
        "easy_string.upper()"
      ]
    },
    {
      "cell_type": "code",
      "execution_count": null,
      "metadata": {
        "id": "SqlP0_UHV2z8"
      },
      "outputs": [],
      "source": [
        "import math"
      ]
    },
    {
      "cell_type": "code",
      "execution_count": null,
      "metadata": {
        "id": "jcHxD7JvV2z8",
        "outputId": "ae029320-5015-4349-f09b-6eadc0854582"
      },
      "outputs": [
        {
          "data": {
            "text/plain": [
              "40320"
            ]
          },
          "execution_count": 23,
          "metadata": {},
          "output_type": "execute_result"
        }
      ],
      "source": [
        "math.factorial(8)"
      ]
    },
    {
      "cell_type": "markdown",
      "metadata": {
        "id": "uv3TEASJV2z9"
      },
      "source": [
        "QUESTION\n",
        "\n",
        "Predict what each print statement below will do.\n",
        "\n",
        "\n",
        "easy_string = \"abcABC\"\n",
        "\n",
        "print(max(easy_string))\n",
        "\n",
        "rich = \"gold1\"\n",
        "\n",
        "poor = \"tin2\"\n",
        "\n",
        "print(max(rich, poor))\n",
        "\n",
        "print(max(len(rich), len(poor)))"
      ]
    },
    {
      "cell_type": "markdown",
      "metadata": {
        "id": "KcWW0luZV2z9"
      },
      "source": [
        "<a id='cs'></a>\n",
        "# Control statements"
      ]
    },
    {
      "cell_type": "markdown",
      "metadata": {
        "id": "zoNW928zV2z9"
      },
      "source": [
        "# if-else -- indentation"
      ]
    },
    {
      "cell_type": "code",
      "execution_count": null,
      "metadata": {
        "id": "CWMMSc9eV2z9",
        "outputId": "1043f678-da7d-43ec-c730-40d66efe92dc"
      },
      "outputs": [
        {
          "name": "stdout",
          "output_type": "stream",
          "text": [
            "The integer 1 is equal to the integer 1.\n",
            "Is the next indented line run, too?\n"
          ]
        }
      ],
      "source": [
        "if 1 == 1:\n",
        "    print('The integer 1 is equal to the integer 1.')\n",
        "    print('Is the next indented line run, too?')"
      ]
    },
    {
      "cell_type": "code",
      "execution_count": null,
      "metadata": {
        "id": "D8Mtvvn6V2z-",
        "outputId": "72e79a4d-82d3-4dfc-ac72-bba1eb7a8a87"
      },
      "outputs": [
        {
          "name": "stdout",
          "output_type": "stream",
          "text": [
            "---\n",
            "These two lines are not indented, so they are always run next.\n"
          ]
        }
      ],
      "source": [
        "if 'one' == 'two':\n",
        "    print(\"The string 'one' is equal to the string 'two'.\")\n",
        "\n",
        "print('---')\n",
        "print('These two lines are not indented, so they are always run next.')"
      ]
    },
    {
      "cell_type": "code",
      "execution_count": null,
      "metadata": {
        "id": "4zG6m5v3V2z-",
        "outputId": "7a7fc923-e125-4962-8cf6-05dfed0c65ee"
      },
      "outputs": [
        {
          "name": "stdout",
          "output_type": "stream",
          "text": [
            "50 >= 30.\n",
            "The else code block wdas run instead of the first block.\n",
            "---\n",
            "These two lines are not indented, so they are always run next.\n"
          ]
        }
      ],
      "source": [
        "if 50 < 30:\n",
        "    print(\"50 < 30.\")\n",
        "else:\n",
        "    print(\"50 >= 30.\")\n",
        "    print(\"The else code block wdas run instead of the first block.\")\n",
        "\n",
        "print('---')\n",
        "print('These two lines are not indented, so they are always run next.')"
      ]
    },
    {
      "cell_type": "code",
      "execution_count": null,
      "metadata": {
        "id": "l9hO1MORV2z-",
        "outputId": "9ea3eb15-e870-4614-c617-cbf3a200e281"
      },
      "outputs": [
        {
          "name": "stdout",
          "output_type": "stream",
          "text": [
            "Your health is average.\n",
            "Exercise and eat healthily!\n",
            "---\n",
            "These two lines are not indented, so they are always run next.\n"
          ]
        }
      ],
      "source": [
        "health = 55\n",
        "\n",
        "if health > 70:\n",
        "    print('You are in great health!')\n",
        "elif health > 40:\n",
        "    print('Your health is average.')\n",
        "    print('Exercise and eat healthily!')\n",
        "else:\n",
        "    print('Your health is low.')\n",
        "    print('Please see a doctor now.')\n",
        "\n",
        "print('---')\n",
        "print('These two lines are not indented, so they are always run next.')"
      ]
    },
    {
      "cell_type": "code",
      "execution_count": null,
      "metadata": {
        "id": "bqbNKrNKV2z_",
        "outputId": "3fdec9dd-bd27-4e0e-f7bf-a3589b599fac"
      },
      "outputs": [
        {
          "name": "stdout",
          "output_type": "stream",
          "text": [
            "You watch the bachelor?yes\n",
            "bachelor watcher\n"
          ]
        }
      ],
      "source": [
        "bachelor = input(\"You watch the bachelor?\")\n",
        "if bachelor == 'yes' or bachelor == 'Yes':\n",
        "    print('bachelor watcher')\n",
        "else:\n",
        "    print('possible bachelor watcher')"
      ]
    },
    {
      "cell_type": "markdown",
      "metadata": {
        "id": "a9PIg0_AV2z_"
      },
      "source": [
        "# question on if"
      ]
    },
    {
      "cell_type": "markdown",
      "metadata": {
        "id": "oH6AZLIHV20A"
      },
      "source": [
        "1. Write an if… else statement to check whether or not the suitcase weighs more than 50 pounds by reading a weight from keyboard\n",
        "\n",
        "\n",
        "2. Write an if… else statement for multiple conditions.\n",
        "\n",
        "Print out these recommendations based on the weather conditions: by reading the temparature and rain as:\n",
        "\n",
        "temperature = float(eval(input('What is the temperature? ')))\n",
        "\n",
        "\n",
        "weather = input('What is the weather (rain or shine)? ')\n",
        "\n",
        "\n",
        "1) The temperature is higher than 60 degrees and it is raining: Bring an umbrella.\n",
        "\n",
        "2) The temperature is lower than or equal to 60 degrees and it is raining: Bring an umbrella and a jacket.\n",
        "\n",
        "3) The temperature is higher than 60 degrees and the sun is shining: Wear a T-shirt.\n",
        "\n",
        "4) The temperature is lower than or equal to 60 degrees and the sun is shining: Bring a jacket."
      ]
    },
    {
      "cell_type": "code",
      "execution_count": null,
      "metadata": {
        "id": "JiocE7xUV20A",
        "outputId": "f54716bf-5de6-4575-acef-fb7885d29534"
      },
      "outputs": [
        {
          "name": "stdout",
          "output_type": "stream",
          "text": [
            "124\n"
          ]
        }
      ],
      "source": [
        "x,y=50,30\n",
        "print( (x ^ y) + ( x & y) << 1 )"
      ]
    },
    {
      "cell_type": "code",
      "execution_count": null,
      "metadata": {
        "id": "sxewRDvdV20B",
        "outputId": "29f4bd14-9c16-4c75-e2f0-a2a9d5d6be11"
      },
      "outputs": [
        {
          "name": "stdout",
          "output_type": "stream",
          "text": [
            "17\n"
          ]
        }
      ],
      "source": [
        "a=[9,3,5]\n",
        "print(sum(a))"
      ]
    },
    {
      "cell_type": "markdown",
      "metadata": {
        "id": "Sc-0RD0aV20B"
      },
      "source": [
        "<a id='fl'></a>\n",
        "# For loop"
      ]
    },
    {
      "cell_type": "markdown",
      "metadata": {
        "id": "FILqaHKrV20C"
      },
      "source": [
        "The range function\n",
        "range(n) creates an iterable of numbers 0, 1, 2, ..., n-1."
      ]
    },
    {
      "cell_type": "code",
      "execution_count": null,
      "metadata": {
        "id": "k-uzC6KMV20C",
        "outputId": "9f7a9248-4dbc-48e4-fb45-5c584f5ec906"
      },
      "outputs": [
        {
          "name": "stdout",
          "output_type": "stream",
          "text": [
            "1\n",
            "2\n",
            "3\n",
            "4\n",
            "5\n",
            "6\n",
            "7\n",
            "8\n",
            "9\n"
          ]
        }
      ],
      "source": [
        "for num in range(1,10,2):\n",
        "    print(num)"
      ]
    },
    {
      "cell_type": "code",
      "execution_count": null,
      "metadata": {
        "id": "tPUpj1DOV20C",
        "outputId": "be078117-bde8-4a12-cc2c-aa2af60c5fcf"
      },
      "outputs": [
        {
          "name": "stdout",
          "output_type": "stream",
          "text": [
            "10\n"
          ]
        }
      ],
      "source": [
        "total = 0\n",
        "for number in range(5):\n",
        "    total = total + number\n",
        "print(total)"
      ]
    },
    {
      "cell_type": "markdown",
      "metadata": {
        "id": "MkBYMYPMV20D"
      },
      "source": [
        "# Problems on for\n",
        "\n",
        "Fill in the blanks to produce correct results:\n",
        "\n",
        "1. Total length of the strings in the list: [\"red\", \"green\", \"blue\"] => 12\n",
        "\n",
        "total = 0\n",
        "\n",
        "for word in [\"red\", \"green\", \"blue\"]:\n",
        "\n",
        "    ____ = ____ + len(word)\n",
        "    \n",
        "print(total)\n",
        "\n",
        "\n",
        "\n",
        "2. List of word lengths: [\"red\", \"green\", \"blue\"] => [3, 5, 4]\n",
        "\n",
        "\n",
        "lengths = ____\n",
        "\n",
        "for word in [\"red\", \"green\", \"blue\"]:\n",
        "\n",
        "    lengths.____(____)\n",
        "    \n",
        "print(lengths)"
      ]
    },
    {
      "cell_type": "markdown",
      "metadata": {
        "id": "18aW3SXPV20D"
      },
      "source": [
        "# another set of problems on for\n",
        "\n",
        "1. Write a for loop that iterates from number 1 to number 15.\n",
        "\n",
        "    On each iteration, print out the number.\n",
        "\n",
        "2. Iterate from 1 to 30 using the following instructions:\n",
        "\n",
        "    1) If a number is divisible by 3, print \"fizz.\"\n",
        "    \n",
        "    2) If a number is divisible by 5, print \"buzz.\"\n",
        "    \n",
        "    3) If a number is both divisible by 3 and by 5, print \"fizzbuzz.\"\n",
        "    \n",
        "    4) Otherwise, print just the number."
      ]
    },
    {
      "cell_type": "markdown",
      "metadata": {
        "id": "NxKVglgHV20D"
      },
      "source": [
        "# While Loop"
      ]
    },
    {
      "cell_type": "code",
      "execution_count": null,
      "metadata": {
        "id": "G-VN_4VhV20D",
        "outputId": "b2b64225-4856-452f-a629-0717189fcd41"
      },
      "outputs": [
        {
          "name": "stdout",
          "output_type": "stream",
          "text": [
            "0\n",
            "1\n",
            "2\n",
            "3\n",
            "4\n",
            "5\n",
            "6\n",
            "7\n",
            "8\n",
            "9\n"
          ]
        }
      ],
      "source": [
        "x = 0\n",
        "while x < 10:\n",
        "    print(x)\n",
        "    x = x+1"
      ]
    },
    {
      "cell_type": "markdown",
      "metadata": {
        "id": "35rB93VmV20D"
      },
      "source": [
        "<a id='lists'></a>\n",
        "# Collections\n",
        "\n",
        "\n",
        "    Lists: [1, 2, 'steve', False]\n",
        "    Tuples: (1, 2, 'steve', False)"
      ]
    },
    {
      "cell_type": "code",
      "execution_count": null,
      "metadata": {
        "id": "3Z9NTFKbV20E"
      },
      "outputs": [],
      "source": [
        "songs = ['Survival','Nonstop','Elevate','Emotionless',\"God's Plan\",\n",
        "\"I'm Upset\",'8 Out Of 10','Mob Ties']"
      ]
    },
    {
      "cell_type": "code",
      "execution_count": null,
      "metadata": {
        "id": "ajK6IBjdV20E",
        "outputId": "43c93061-50fa-4f5e-fd11-818012f9b1ea",
        "colab": {
          "base_uri": "https://localhost:8080/"
        }
      },
      "outputs": [
        {
          "output_type": "execute_result",
          "data": {
            "text/plain": [
              "list"
            ]
          },
          "metadata": {},
          "execution_count": 2
        }
      ],
      "source": [
        "type(songs)"
      ]
    },
    {
      "cell_type": "code",
      "execution_count": null,
      "metadata": {
        "id": "CnmW27VPV20E",
        "outputId": "178627a6-9fff-4079-ea1e-7093c82903c9",
        "colab": {
          "base_uri": "https://localhost:8080/",
          "height": 35
        }
      },
      "outputs": [
        {
          "output_type": "execute_result",
          "data": {
            "text/plain": [
              "'Survival'"
            ],
            "application/vnd.google.colaboratory.intrinsic+json": {
              "type": "string"
            }
          },
          "metadata": {},
          "execution_count": 3
        }
      ],
      "source": [
        "songs[0]"
      ]
    },
    {
      "cell_type": "code",
      "execution_count": null,
      "metadata": {
        "id": "CGzwfstfV20E",
        "outputId": "8f5d1733-3595-48ff-ae15-00d8dd3b85de",
        "colab": {
          "base_uri": "https://localhost:8080/"
        }
      },
      "outputs": [
        {
          "output_type": "stream",
          "name": "stdout",
          "text": [
            "8\n"
          ]
        }
      ],
      "source": [
        "print(len(songs))"
      ]
    },
    {
      "cell_type": "code",
      "execution_count": null,
      "metadata": {
        "id": "NrPfi7t-V20F"
      },
      "outputs": [],
      "source": [
        "songs[3] = 'In my feelings'"
      ]
    },
    {
      "cell_type": "code",
      "execution_count": null,
      "metadata": {
        "id": "i6F9xu77V20F",
        "outputId": "e6626c8d-8ab8-498e-b858-69359397fe3b",
        "colab": {
          "base_uri": "https://localhost:8080/"
        }
      },
      "outputs": [
        {
          "output_type": "stream",
          "name": "stdout",
          "text": [
            "8\n"
          ]
        }
      ],
      "source": [
        "print(len(songs))"
      ]
    },
    {
      "cell_type": "code",
      "source": [
        "songs"
      ],
      "metadata": {
        "colab": {
          "base_uri": "https://localhost:8080/"
        },
        "id": "WaARW8bCRYD9",
        "outputId": "46d5e847-e1f5-43df-c356-60283f303877"
      },
      "execution_count": null,
      "outputs": [
        {
          "output_type": "execute_result",
          "data": {
            "text/plain": [
              "['Survival',\n",
              " 'Nonstop',\n",
              " 'Elevate',\n",
              " 'In my feelings',\n",
              " \"God's Plan\",\n",
              " \"I'm Upset\",\n",
              " '8 Out Of 10',\n",
              " 'Mob Ties']"
            ]
          },
          "metadata": {},
          "execution_count": 7
        }
      ]
    },
    {
      "cell_type": "code",
      "execution_count": null,
      "metadata": {
        "id": "5LwZqW2DV20F",
        "outputId": "b94f703a-1217-4d12-d683-45882827989c",
        "colab": {
          "base_uri": "https://localhost:8080/"
        }
      },
      "outputs": [
        {
          "output_type": "stream",
          "name": "stdout",
          "text": [
            "3rd Item in List is:  35\n",
            "2nd Last in List is:  789\n",
            "List from 2nd Item is:  [35, 46, 51, 62, 78, 89, 90, 456, 345, 789, 234]\n",
            "List from 2nd to 4th Item is:  [35, 46, 51]\n",
            "List odd Items is:  [11, 35, 51, 78, 90, 345, 234]\n",
            "List even Items is:  [23, 46, 62, 89, 456, 789]\n",
            "List reversed Items is:  [234, 789, 345, 456, 90, 89, 78, 62, 51, 46, 35, 23, 11]\n"
          ]
        }
      ],
      "source": [
        "list1 = [11,23,35,46,51,62,78, 89, 90,456, 345, 789, 234]\n",
        "print(\"3rd Item in List is: \", list1[2]) # Indexing\n",
        "print(\"2nd Last in List is: \", list1[-2]) # Indexing from Last\n",
        "print(\"List from 2nd Item is: \", list1[2:])\n",
        "print(\"List from 2nd to 4th Item is: \", list1[2:5])\n",
        "print(\"List odd Items is: \", list1[::2])\n",
        "print(\"List even Items is: \", list1[1::2])\n",
        "print(\"List reversed Items is: \", list1[-1::-1])"
      ]
    },
    {
      "cell_type": "code",
      "execution_count": null,
      "metadata": {
        "id": "gMheoqr0V20G",
        "outputId": "da8e4c6f-f71f-4fdc-a9ab-f2339709484e"
      },
      "outputs": [
        {
          "data": {
            "text/plain": [
              "['Survival',\n",
              " 'Nonstop',\n",
              " 'Elevate',\n",
              " 'In my feelings',\n",
              " \"God's Plan\",\n",
              " \"I'm Upset\",\n",
              " '8 Out Of 10',\n",
              " 'Mob Ties']"
            ]
          },
          "execution_count": 7,
          "metadata": {},
          "output_type": "execute_result"
        }
      ],
      "source": [
        "songs"
      ]
    },
    {
      "cell_type": "code",
      "execution_count": null,
      "metadata": {
        "id": "v9USs4qcV20G"
      },
      "outputs": [],
      "source": [
        "songs.append('Jump Man')"
      ]
    },
    {
      "cell_type": "code",
      "execution_count": null,
      "metadata": {
        "id": "6l7ZzwvVV20G",
        "outputId": "45d04461-ecc9-433e-ed50-79b2b2a4d91a"
      },
      "outputs": [
        {
          "name": "stdout",
          "output_type": "stream",
          "text": [
            "['Survival', 'Nonstop', 'Elevate', 'In my feelings', \"God's Plan\", \"I'm Upset\", '8 Out Of 10', 'Mob Ties', 'Jump Man', 'Jump Man']\n"
          ]
        }
      ],
      "source": [
        "print(songs)"
      ]
    },
    {
      "cell_type": "code",
      "execution_count": null,
      "metadata": {
        "id": "8tpCk_5NV20H"
      },
      "outputs": [],
      "source": [
        "del songs[3]"
      ]
    },
    {
      "cell_type": "code",
      "execution_count": null,
      "metadata": {
        "id": "8R3RtYCrV20H",
        "outputId": "62864fb0-599a-4ce0-bce8-6283cbe9d775"
      },
      "outputs": [
        {
          "name": "stdout",
          "output_type": "stream",
          "text": [
            "['Survival', 'Nonstop', 'Elevate', \"God's Plan\", \"I'm Upset\", '8 Out Of 10', 'Mob Ties', 'Jump Man', 'Jump Man']\n"
          ]
        }
      ],
      "source": [
        "print(songs)"
      ]
    },
    {
      "cell_type": "code",
      "execution_count": null,
      "metadata": {
        "id": "aOlOVpHtV20H"
      },
      "outputs": [],
      "source": [
        "new_playlist = []"
      ]
    },
    {
      "cell_type": "code",
      "execution_count": null,
      "metadata": {
        "id": "JngXhTZlV20H"
      },
      "outputs": [],
      "source": [
        "new_playlist.append('0 to 100')"
      ]
    },
    {
      "cell_type": "code",
      "execution_count": null,
      "metadata": {
        "id": "lGBps6CPV20H",
        "outputId": "59c226ef-f3f3-4959-ae6b-dba30f754630"
      },
      "outputs": [
        {
          "data": {
            "text/plain": [
              "['0 to 100']"
            ]
          },
          "execution_count": 15,
          "metadata": {},
          "output_type": "execute_result"
        }
      ],
      "source": [
        "new_playlist"
      ]
    },
    {
      "cell_type": "code",
      "execution_count": null,
      "metadata": {
        "id": "VNIpFpNgV20I"
      },
      "outputs": [],
      "source": [
        "a = list()"
      ]
    },
    {
      "cell_type": "code",
      "execution_count": null,
      "metadata": {
        "id": "RgKXJYPwV20I"
      },
      "outputs": [],
      "source": [
        "import random"
      ]
    },
    {
      "cell_type": "code",
      "execution_count": null,
      "metadata": {
        "id": "mh-HszN2V20I"
      },
      "outputs": [],
      "source": [
        "a.append(random.randint(1,30))"
      ]
    },
    {
      "cell_type": "code",
      "execution_count": null,
      "metadata": {
        "id": "FeZLvJqoV20I",
        "outputId": "cbaca33f-4f0d-4687-9270-ddedc732afb3"
      },
      "outputs": [
        {
          "name": "stdout",
          "output_type": "stream",
          "text": [
            "[20, 7, 28, 22]\n"
          ]
        }
      ],
      "source": [
        "print(a)"
      ]
    },
    {
      "cell_type": "code",
      "execution_count": null,
      "metadata": {
        "id": "zPvyOdjZV20J",
        "outputId": "23aa6a23-d02f-4916-fb03-c44c53acb409"
      },
      "outputs": [
        {
          "name": "stdout",
          "output_type": "stream",
          "text": [
            "[28]\n"
          ]
        }
      ],
      "source": [
        "print(a)"
      ]
    },
    {
      "cell_type": "code",
      "execution_count": null,
      "metadata": {
        "id": "tAgofnU3V20J"
      },
      "outputs": [],
      "source": [
        "for i in range(0,10):\n",
        "    a.append(random.randint(1,200000))"
      ]
    },
    {
      "cell_type": "code",
      "execution_count": null,
      "metadata": {
        "id": "DmexskfQV20J",
        "outputId": "2f89edad-50f9-4669-c451-02b1d3088377"
      },
      "outputs": [
        {
          "name": "stdout",
          "output_type": "stream",
          "text": [
            "[28, 360, 849, 1033, 218, 1400, 1825, 180, 1073, 1715, 1678, 77631, 83385, 86128, 199883, 157960, 169393, 56813, 92406, 38346, 158001, 130939, 195412, 128788, 135365, 22447, 149502, 136275, 42449, 175963, 118356]\n"
          ]
        }
      ],
      "source": [
        "print(a)"
      ]
    },
    {
      "cell_type": "code",
      "execution_count": null,
      "metadata": {
        "id": "Jjb3ps0HV20J",
        "outputId": "7b4da25c-7f92-4a4b-cec9-874e342c1a61"
      },
      "outputs": [
        {
          "name": "stdout",
          "output_type": "stream",
          "text": [
            "[28, 360, 849, 1033, 218, 1400, 1825, 180, 1073, 1715, 1678, 77631, 83385, 86128, 199883, 157960, 169393, 56813, 92406, 38346, 158001, 130939, 195412, 128788, 135365, 22447, 149502, 136275, 42449, 175963, 118356]\n"
          ]
        }
      ],
      "source": [
        "print(a)"
      ]
    },
    {
      "cell_type": "code",
      "execution_count": null,
      "metadata": {
        "id": "0kKHE9-tV20K"
      },
      "outputs": [],
      "source": [
        "for i in range(0,5):\n",
        "    a.append(random.randint(1,20))"
      ]
    },
    {
      "cell_type": "code",
      "execution_count": null,
      "metadata": {
        "scrolled": true,
        "id": "Q9zBTrEDV20K",
        "outputId": "2232fde0-8066-41c0-993f-4eb882d20bb1"
      },
      "outputs": [
        {
          "name": "stdout",
          "output_type": "stream",
          "text": [
            "[28, 360, 849, 1033, 218, 1400, 1825, 180, 1073, 1715, 1678, 77631, 83385, 86128, 199883, 157960, 169393, 56813, 92406, 38346, 158001, 130939, 195412, 128788, 135365, 22447, 149502, 136275, 42449, 175963, 118356, 15, 9, 19, 7, 4]\n"
          ]
        }
      ],
      "source": [
        "print(a)"
      ]
    },
    {
      "cell_type": "code",
      "execution_count": null,
      "metadata": {
        "id": "65cNIg29V20K",
        "outputId": "da701266-1b51-4e40-8e21-046e69ed3bec"
      },
      "outputs": [
        {
          "name": "stdout",
          "output_type": "stream",
          "text": [
            "[13, 10, 18, 17, 26]\n"
          ]
        }
      ],
      "source": [
        "randomlist = []\n",
        "#random.seed(42)\n",
        "randomlist = random.sample(range(10,30),5)\n",
        "print(randomlist)"
      ]
    },
    {
      "cell_type": "code",
      "execution_count": null,
      "metadata": {
        "id": "bBp_Bp5UV20K",
        "outputId": "ef61d646-fc98-4d6a-92f9-3f945b36a718"
      },
      "outputs": [
        {
          "name": "stdout",
          "output_type": "stream",
          "text": [
            "['A', 'd', 'd']\n"
          ]
        }
      ],
      "source": [
        "# Create a new empty list:\n",
        "l = []\n",
        "\n",
        "# Add an element using append():\n",
        "l.append(\"A\")\n",
        "l.append(\"d\")\n",
        "l.append(\"d\")\n",
        "\n",
        "print(l)"
      ]
    },
    {
      "cell_type": "code",
      "execution_count": null,
      "metadata": {
        "id": "a9WIEwNqV20L",
        "outputId": "3aacfabc-34b7-442c-d18a-2347e41efda0"
      },
      "outputs": [
        {
          "name": "stdout",
          "output_type": "stream",
          "text": [
            "['A', 'b', 'c']\n"
          ]
        }
      ],
      "source": [
        "# Reassign a range of values with another list:\n",
        "l[1:3] = [\"b\", \"c\"]\n",
        "print(l)"
      ]
    },
    {
      "cell_type": "code",
      "execution_count": null,
      "metadata": {
        "id": "KCecNfR8V20L",
        "outputId": "7e93204a-c08e-49b1-e442-5355eafdaf66"
      },
      "outputs": [
        {
          "name": "stdout",
          "output_type": "stream",
          "text": [
            "['i', 'n', 's', 'e', 'r', 't', 'A', 'b', 'c']\n"
          ]
        }
      ],
      "source": [
        "#Use the .insert() method to add values at specific indices.\n",
        "l.insert(0, \"i\")\n",
        "l.insert(1, \"n\")\n",
        "l.insert(2, \"s\")\n",
        "l.insert(3, \"e\")\n",
        "l.insert(4, \"r\")\n",
        "l.insert(5, \"t\")\n",
        "\n",
        "print(l)"
      ]
    },
    {
      "cell_type": "code",
      "execution_count": null,
      "metadata": {
        "id": "eCphBFDaV20L",
        "outputId": "5bc8ceac-d250-4464-dd78-9b4823862857"
      },
      "outputs": [
        {
          "name": "stdout",
          "output_type": "stream",
          "text": [
            "['i', 'n', 's', 'e', 'r', 't', 'b', 'c']\n"
          ]
        }
      ],
      "source": [
        "#The .remove() method can be used to remove specific values if they appear in a list.\n",
        "l.remove(\"A\")\n",
        "print(l)"
      ]
    },
    {
      "cell_type": "code",
      "execution_count": null,
      "metadata": {
        "id": "9pRTVyhuV20M",
        "outputId": "5f6cbe45-8557-4166-818c-b40d17a7e618"
      },
      "outputs": [
        {
          "name": "stdout",
          "output_type": "stream",
          "text": [
            "['i', 'n', 's', 'e', 'r', 't']\n"
          ]
        }
      ],
      "source": [
        "#On the other hand, the del() function can be used with a list and index to delete values.\n",
        "del l[7]\n",
        "del l[6]\n",
        "\n",
        "print(l)"
      ]
    },
    {
      "cell_type": "code",
      "execution_count": null,
      "metadata": {
        "id": "NIFjLVW2V20M",
        "outputId": "85c426c1-d869-4c55-e0ac-c57aac26a749"
      },
      "outputs": [
        {
          "name": "stdout",
          "output_type": "stream",
          "text": [
            "['10', '20', '23', '26', '27', '28', '32', '33', '38', '42', '44', '48', '54', '56', '65', '66', '66', '83', '87', '88', '94', '99']\n",
            "None\n",
            "['99', '94', '88', '87', '83', '66', '66', '65', '56', '54', '48', '44', '42', '38', '33', '32', '28', '27', '26', '23', '20', '10']\n",
            "WEDNESDAY THURSDAY\n",
            "THURSDAY FRIDAY\n",
            "['WEDNESDAY', 'THURSDAY', 'FRIDAY']\n",
            "None\n",
            "['MONDAY', 'TUESDAY', 'WEDNESDAY', 'THURSDAY', 'FRIDAY', 'SATURDAY', 'SUNDAY']\n",
            "7\n",
            "['a', 'b', 'b', 'b', 'c', 'c', 'd', 'e']\n"
          ]
        },
        {
          "data": {
            "text/plain": [
              "7"
            ]
          },
          "execution_count": 12,
          "metadata": {},
          "output_type": "execute_result"
        }
      ],
      "source": [
        "Ages = [ '20', '26', '56', '54', '32', '28','23','99', '87', '10', '65', '88', '66',\n",
        "                  '48', '42', '27','33','38','83','94','66','44']\n",
        "print(sorted(Ages, reverse=False))\n",
        "print(Ages.sort())\n",
        "print(sorted(Ages, reverse=True))\n",
        "\n",
        "D = ['MONDAY', 'TUESDAY','WEDNESDAY','THURSDAY','FRIDAY','SATURDAY','SUNDAY']\n",
        "print(D[-5], D[-4])\n",
        "print(D[3], D[4])\n",
        "print(D[2:5])\n",
        "\n",
        "#print(reverse(D))\n",
        "print(D.reverse())\n",
        "print(list(reversed(D)))\n",
        "\n",
        "Mylist =['a','a','b','b','b','c','c','d','e']\n",
        "print(Mylist.index('d'))\n",
        "Mylist.pop(0)\n",
        "print(Mylist)\n",
        "\n",
        "N = [24, 27, 29, 26, 25, 23, 20]\n",
        "len(N)"
      ]
    },
    {
      "cell_type": "markdown",
      "metadata": {
        "id": "VzDfS3xUV20N"
      },
      "source": [
        "# List Comprehension\n",
        " check this folder :E:\\Python for Data Science\\listcomprehension"
      ]
    },
    {
      "cell_type": "code",
      "execution_count": null,
      "metadata": {
        "id": "kegXtnlMV20N",
        "outputId": "893fd048-b560-4026-a898-9771936bfb9a"
      },
      "outputs": [
        {
          "name": "stdout",
          "output_type": "stream",
          "text": [
            "[21, 5, 33, 10, 47, 44, 17, 19, 35, 13]\n"
          ]
        }
      ],
      "source": [
        "res = [random.randrange(1, 50, 1) for i in range(10)]\n",
        "print(res)"
      ]
    },
    {
      "cell_type": "code",
      "execution_count": null,
      "metadata": {
        "id": "jKCfqjBnV20N",
        "outputId": "aaf49b41-ccaa-4b6f-eea0-d5fd155fbf31"
      },
      "outputs": [
        {
          "name": "stdout",
          "output_type": "stream",
          "text": [
            "2\n",
            "4\n",
            "6\n"
          ]
        }
      ],
      "source": [
        "for number in [2, 4, 6]:\n",
        "    print(number)"
      ]
    },
    {
      "cell_type": "code",
      "execution_count": null,
      "metadata": {
        "id": "g5_D8Xm1V20N"
      },
      "outputs": [],
      "source": [
        "for bachelor in [3, 5, 6]:\n",
        "    print(bachelor)"
      ]
    },
    {
      "cell_type": "code",
      "execution_count": null,
      "metadata": {
        "id": "SBFooQ2gV20N",
        "outputId": "04fc890c-3ac4-43bd-c682-fbc0d5b26605"
      },
      "outputs": [
        {
          "name": "stdout",
          "output_type": "stream",
          "text": [
            "[11, 12, 13, 14, 15]\n",
            "[21, 22, 23, 24, 25]\n",
            "[1331, 1728, 2197, 2744, 3375]\n",
            "[51.8, 53.6, 55.400000000000006, 57.2, 59.0]\n",
            "[12, 14]\n"
          ]
        }
      ],
      "source": [
        "#n=[x*x for x in range(4)]\n",
        "#print(n)\n",
        "#\n",
        "#list = [2,4,6,8]\n",
        "#a= (x**3 for x in list)\n",
        "#print(next(a))\n",
        "#print(a)\n",
        "#List Comprehension\n",
        "\n",
        "l1 = [1,2,3,4,5]\n",
        "\n",
        "for i in range(0,len(l1)):\n",
        "    l1[i] = l1[i]+10\n",
        "print(l1)\n",
        "\n",
        "l2 = [x+10 for x in l1]\n",
        "print(l2)\n",
        "\n",
        "l3 = [x**3 for x in l1]\n",
        "print(l3)\n",
        "\n",
        "fahrenheit = [((float(9)/5)*x+32) for x in l1]\n",
        "print(fahrenheit)\n",
        "\n",
        "e = [x for x in l1 if x%2==0]\n",
        "print(e)\n"
      ]
    },
    {
      "cell_type": "markdown",
      "metadata": {
        "id": "v1gBMhwXV20O"
      },
      "source": [
        "<a id='tup'></a>\n",
        "# Tuples"
      ]
    },
    {
      "cell_type": "code",
      "execution_count": null,
      "metadata": {
        "id": "j234evyQV20O",
        "outputId": "efa03140-3695-46f4-eb90-4fa5d58ec7f9"
      },
      "outputs": [
        {
          "name": "stdout",
          "output_type": "stream",
          "text": [
            "3rd Item in tuple is:  3\n",
            "Tuple from 2nd Item is:  (3, 4, 5, 6)\n",
            "Tuple from 2nd to 4th Item is:  (3, 4, 5)\n",
            "Tuple odd Items is:  (1, 3, 5)\n",
            "Tuple even Items is:  (2, 4, 6)\n",
            "Tuple reversed Items is:  (6, 5, 4, 3, 2, 1)\n"
          ]
        }
      ],
      "source": [
        "tuple1 = (1,2,3,4,5,6)\n",
        "print(\"3rd Item in tuple is: \", tuple1[2]) # Indexed Item\n",
        "print(\"Tuple from 2nd Item is: \", tuple1[2:])\n",
        "print(\"Tuple from 2nd to 4th Item is: \", tuple1[2:5])\n",
        "print(\"Tuple odd Items is: \", tuple1[::2])\n",
        "print(\"Tuple even Items is: \", tuple1[1::2])\n",
        "print(\"Tuple reversed Items is: \", tuple1[-1::-1])"
      ]
    },
    {
      "cell_type": "code",
      "execution_count": null,
      "metadata": {
        "id": "zVtvwSRzV20O"
      },
      "outputs": [],
      "source": [
        "\n",
        "song_tuple = ('Survival','Nonstop','Elevate','Emotionless',\"God's Plan\"\n",
        "\"I'm Upset\",'8 Out Of 10','Mob Ties')"
      ]
    },
    {
      "cell_type": "code",
      "execution_count": null,
      "metadata": {
        "id": "eRU0TqiXV20O",
        "outputId": "bd5a6012-a8ac-4b40-a954-d2eb9d51a123"
      },
      "outputs": [
        {
          "data": {
            "text/plain": [
              "'Emotionless'"
            ]
          },
          "execution_count": 23,
          "metadata": {},
          "output_type": "execute_result"
        }
      ],
      "source": [
        "song_tuple[3]"
      ]
    },
    {
      "cell_type": "code",
      "execution_count": null,
      "metadata": {
        "id": "UDLI9VjhV20O",
        "outputId": "98ab5b83-14fa-41bf-e10e-0f1deedb7ea4"
      },
      "outputs": [
        {
          "ename": "TypeError",
          "evalue": "'tuple' object does not support item assignment",
          "output_type": "error",
          "traceback": [
            "\u001b[1;31m---------------------------------------------------------------------------\u001b[0m",
            "\u001b[1;31mTypeError\u001b[0m                                 Traceback (most recent call last)",
            "\u001b[1;32m<ipython-input-24-c1b6200a9ca3>\u001b[0m in \u001b[0;36m<module>\u001b[1;34m\u001b[0m\n\u001b[1;32m----> 1\u001b[1;33m \u001b[0msong_tuple\u001b[0m\u001b[1;33m[\u001b[0m\u001b[1;36m3\u001b[0m\u001b[1;33m]\u001b[0m \u001b[1;33m=\u001b[0m \u001b[1;34m'In my feelings'\u001b[0m\u001b[1;33m\u001b[0m\u001b[1;33m\u001b[0m\u001b[0m\n\u001b[0m",
            "\u001b[1;31mTypeError\u001b[0m: 'tuple' object does not support item assignment"
          ]
        }
      ],
      "source": [
        "song_tuple[3] = 'In my feelings'"
      ]
    },
    {
      "cell_type": "code",
      "execution_count": null,
      "metadata": {
        "id": "Rlq7w9-PV20P",
        "outputId": "516b051a-78e8-4d51-b5c0-d90276008dbe"
      },
      "outputs": [
        {
          "data": {
            "text/plain": [
              "tuple"
            ]
          },
          "execution_count": 25,
          "metadata": {},
          "output_type": "execute_result"
        }
      ],
      "source": [
        "type(song_tuple)"
      ]
    },
    {
      "cell_type": "code",
      "execution_count": null,
      "metadata": {
        "id": "7RjRxFQIV20P"
      },
      "outputs": [],
      "source": [
        "song_list = list(song_tuple)"
      ]
    },
    {
      "cell_type": "code",
      "execution_count": null,
      "metadata": {
        "id": "v9mA75LJV20P",
        "outputId": "5434eb48-c351-477e-8bee-aeb321f30814"
      },
      "outputs": [
        {
          "data": {
            "text/plain": [
              "list"
            ]
          },
          "execution_count": 27,
          "metadata": {},
          "output_type": "execute_result"
        }
      ],
      "source": [
        "type(song_list)"
      ]
    },
    {
      "cell_type": "code",
      "execution_count": null,
      "metadata": {
        "id": "QP3za0HWV20P",
        "outputId": "ad42f795-4e97-44d6-c33e-99cf8ab79bae"
      },
      "outputs": [
        {
          "name": "stdout",
          "output_type": "stream",
          "text": [
            "['Survival', 'Nonstop', 'Elevate', 'Emotionless', \"God's PlanI'm Upset\", '8 Out Of 10', 'Mob Ties']\n"
          ]
        }
      ],
      "source": [
        "print(song_list)"
      ]
    },
    {
      "cell_type": "code",
      "execution_count": null,
      "metadata": {
        "id": "0eBokWVUV20Q",
        "outputId": "19132a95-6419-453d-c4fc-d580dedac7f5"
      },
      "outputs": [
        {
          "data": {
            "text/plain": [
              "('Survival',\n",
              " 'Nonstop',\n",
              " 'Elevate',\n",
              " 'Emotionless',\n",
              " \"God's PlanI'm Upset\",\n",
              " '8 Out Of 10',\n",
              " 'Mob Ties')"
            ]
          },
          "execution_count": 143,
          "metadata": {},
          "output_type": "execute_result"
        }
      ],
      "source": [
        "tuple(song_list)"
      ]
    },
    {
      "cell_type": "code",
      "execution_count": null,
      "metadata": {
        "id": "ZhwqWFPPV20Q",
        "outputId": "9ad99882-18eb-44be-beaa-89ff62c76c9e"
      },
      "outputs": [
        {
          "name": "stdout",
          "output_type": "stream",
          "text": [
            "(10, 20)\n",
            "<class 'tuple'>\n"
          ]
        }
      ],
      "source": [
        "point = (10, 20)\n",
        "print(point)\n",
        "print(type(point))"
      ]
    },
    {
      "cell_type": "code",
      "execution_count": null,
      "metadata": {
        "id": "2xaex8h5V20Q",
        "outputId": "402eb3db-04c1-48e1-b144-93e222ffe41d"
      },
      "outputs": [
        {
          "data": {
            "text/plain": [
              "10"
            ]
          },
          "execution_count": 29,
          "metadata": {},
          "output_type": "execute_result"
        }
      ],
      "source": [
        "# They can be sliced just like lists and strings:\n",
        "point[0]"
      ]
    },
    {
      "cell_type": "code",
      "execution_count": null,
      "metadata": {
        "id": "mHxj6rQZV20Q",
        "outputId": "f716cffc-44d7-411a-9cec-b11e0ba66e5f"
      },
      "outputs": [
        {
          "name": "stdout",
          "output_type": "stream",
          "text": [
            "x = 10\n",
            "y = 20\n"
          ]
        }
      ],
      "source": [
        "#Unpacking a variable is a common practice when iterating through Python data types.\n",
        "#Unpacking essentially allows us to simultaneously set new variables to items in a list, tuple, or dictionary.\n",
        "\n",
        "# Unpacking:\n",
        "x, y = point\n",
        "\n",
        "print(\"x = {}\".format(x))\n",
        "print(\"y = {}\".format(y))"
      ]
    },
    {
      "cell_type": "markdown",
      "metadata": {
        "id": "6VRrWHQFV20R"
      },
      "source": [
        "<a id='fun'></a>\n",
        "# Functions"
      ]
    },
    {
      "cell_type": "code",
      "execution_count": null,
      "metadata": {
        "id": "vlI2Ab7wV20S"
      },
      "outputs": [],
      "source": [
        "def hi():\n",
        "    print('Hello World!')"
      ]
    },
    {
      "cell_type": "code",
      "execution_count": null,
      "metadata": {
        "id": "7xKI2jLpV20S",
        "outputId": "8d456ad9-080f-4504-e5e1-6100d3a20104"
      },
      "outputs": [
        {
          "name": "stdout",
          "output_type": "stream",
          "text": [
            "Hello World!\n"
          ]
        }
      ],
      "source": [
        "hi()"
      ]
    },
    {
      "cell_type": "code",
      "execution_count": null,
      "metadata": {
        "id": "7qDiuADcV20T"
      },
      "outputs": [],
      "source": [
        "def birth_date(month, day, year=2020):\n",
        "    bday = str(month) + '/' + str(day) + '/' + str(year)\n",
        "    print(bday)"
      ]
    },
    {
      "cell_type": "code",
      "execution_count": null,
      "metadata": {
        "id": "tU8ieVTEV20T",
        "outputId": "5fc10cfc-6443-40fd-dc2d-3fa5e98faabe"
      },
      "outputs": [
        {
          "ename": "TypeError",
          "evalue": "birth_date() missing 1 required positional argument: 'month'",
          "output_type": "error",
          "traceback": [
            "\u001b[1;31m---------------------------------------------------------------------------\u001b[0m",
            "\u001b[1;31mTypeError\u001b[0m                                 Traceback (most recent call last)",
            "\u001b[1;32m<ipython-input-7-b23c2542735f>\u001b[0m in \u001b[0;36m<module>\u001b[1;34m\u001b[0m\n\u001b[1;32m----> 1\u001b[1;33m \u001b[0mbirth_date\u001b[0m\u001b[1;33m(\u001b[0m\u001b[0mday\u001b[0m \u001b[1;33m=\u001b[0m \u001b[1;36m5\u001b[0m\u001b[1;33m,\u001b[0m \u001b[0myear\u001b[0m \u001b[1;33m=\u001b[0m \u001b[1;36m1979\u001b[0m\u001b[1;33m)\u001b[0m\u001b[1;33m\u001b[0m\u001b[1;33m\u001b[0m\u001b[0m\n\u001b[0m",
            "\u001b[1;31mTypeError\u001b[0m: birth_date() missing 1 required positional argument: 'month'"
          ]
        }
      ],
      "source": [
        "birth_date(day = 5, year = 1979)"
      ]
    },
    {
      "cell_type": "code",
      "execution_count": null,
      "metadata": {
        "id": "XT3u94J5V20T",
        "outputId": "5feafa4c-4ef4-4f7a-f501-b540ab5a0e34"
      },
      "outputs": [
        {
          "name": "stdout",
          "output_type": "stream",
          "text": [
            "5/11/2020\n"
          ]
        }
      ],
      "source": [
        "birth_date(5, 11)"
      ]
    },
    {
      "cell_type": "code",
      "execution_count": null,
      "metadata": {
        "id": "CzCthye8V20U",
        "outputId": "d336b538-c9c5-464d-e7c6-7447b5934aec"
      },
      "outputs": [
        {
          "name": "stdout",
          "output_type": "stream",
          "text": [
            "Sum is  8\n"
          ]
        }
      ],
      "source": [
        "def add(x,y):\n",
        "    return x+y\n",
        "print(\"Sum is \",add(3,5))\n",
        "\n"
      ]
    },
    {
      "cell_type": "code",
      "execution_count": null,
      "metadata": {
        "id": "ryvCF385V20U",
        "outputId": "db0a586b-011d-47b3-a65b-90ee5a9851a4"
      },
      "outputs": [
        {
          "name": "stdout",
          "output_type": "stream",
          "text": [
            "Factorial of the number is: 720\n"
          ]
        }
      ],
      "source": [
        "def fact(n):\n",
        "    f=1\n",
        "    for i in range(1,n+1):\n",
        "        f=f*i\n",
        "    return f\n",
        "\n",
        "print(\"Factorial of the number is:\",fact(6))\n",
        "\n"
      ]
    },
    {
      "cell_type": "code",
      "execution_count": null,
      "metadata": {
        "id": "wY6XaFmcV20U",
        "outputId": "6a587eda-386e-4d4c-e175-fc6de4cfd3c2"
      },
      "outputs": [
        {
          "data": {
            "text/plain": [
              "['f', 't', 'h', 'm']"
            ]
          },
          "execution_count": 42,
          "metadata": {},
          "output_type": "execute_result"
        }
      ],
      "source": [
        "#find mistake\n",
        "word=['f','a','t','h','i','m','a']\n",
        "def count_vow(word):\n",
        "    for i in word:\n",
        "        if(i=='a'or i=='e'or i=='i'or i=='o'or i=='u'):\n",
        "            word.remove(i)\n",
        "    return word\n",
        "count_vow(word)"
      ]
    },
    {
      "cell_type": "code",
      "execution_count": null,
      "metadata": {
        "id": "l971ffduV20U"
      },
      "outputs": [],
      "source": [
        "test_list = [8, 1, -4, 8, -1]"
      ]
    },
    {
      "cell_type": "code",
      "execution_count": null,
      "metadata": {
        "id": "I-Ml9AyRV20V"
      },
      "outputs": [],
      "source": [
        "def first_negative(list_of_numbers):\n",
        "    '''\n",
        "    This function takes in a list and\n",
        "    returns the first negative number in\n",
        "    list.\n",
        "\n",
        "    Arguments\n",
        "    ---------\n",
        "    list_of_numbers: list type\n",
        "\n",
        "    Returns\n",
        "    -------\n",
        "    int type, smallest value in list\n",
        "    '''\n",
        "    #loop over the list of numbers\n",
        "    for num in list_of_numbers:\n",
        "        if num < 0: #check if number is negative\n",
        "            print(num) #print the number\n",
        "            return num  #return the number"
      ]
    },
    {
      "cell_type": "code",
      "execution_count": null,
      "metadata": {
        "id": "8F-Y_vB2V20V",
        "outputId": "e3a2be14-0d89-4d06-dd7b-cb1d691cdb23"
      },
      "outputs": [
        {
          "name": "stdout",
          "output_type": "stream",
          "text": [
            "-4\n"
          ]
        },
        {
          "data": {
            "text/plain": [
              "-4"
            ]
          },
          "execution_count": 9,
          "metadata": {},
          "output_type": "execute_result"
        }
      ],
      "source": [
        "first_negative(test_list)"
      ]
    },
    {
      "cell_type": "code",
      "execution_count": null,
      "metadata": {
        "id": "GtSV4YCRV20V"
      },
      "outputs": [],
      "source": [
        "sentence = \"A MAN KNOCKED ON MY DOOR AND ASKED FOR A SMALL DONATION TOWARDS THE LOCAL SWIMMING POOL SO I GAVE HIM A GLASS OF WATER\""
      ]
    },
    {
      "cell_type": "code",
      "execution_count": null,
      "metadata": {
        "id": "i7wUdpO2V20W"
      },
      "outputs": [],
      "source": [
        "def vowel_counter(word):\n",
        "    '''\n",
        "    This function takes in a word and\n",
        "    counts how many vowels\n",
        "    '''\n",
        "    count = 0\n",
        "    for letter in word:\n",
        "        if letter in 'aeiouAEIOU':\n",
        "#         if letter in ['a', 'e', 'i', 'o', 'u']:\n",
        "            count += 1\n",
        "    return count"
      ]
    },
    {
      "cell_type": "code",
      "execution_count": null,
      "metadata": {
        "id": "jIrT9ySkV20W",
        "outputId": "c97e24d6-b96f-4119-87c5-f43c0d84fa22"
      },
      "outputs": [
        {
          "name": "stdout",
          "output_type": "stream",
          "text": [
            "36\n"
          ]
        }
      ],
      "source": [
        "print(vowel_counter(sentence))"
      ]
    },
    {
      "cell_type": "markdown",
      "metadata": {
        "id": "65yQWEKAV20W"
      },
      "source": [
        "Code a function called \"add_three\"\n",
        "\n",
        "ACCEPT  three inputs, all numbers (floats or ints)\n",
        "\n",
        "RETURN the sum of the three numbers added together."
      ]
    },
    {
      "cell_type": "markdown",
      "metadata": {
        "id": "CZlLHkpJV20X"
      },
      "source": [
        "Build a function called 'cap_first'\n",
        "\n",
        "ACCEPT a non-empty string input.\n",
        "\n",
        "RETURN that same string, with first letter capitalized,and all subsequent letters in lower-case."
      ]
    },
    {
      "cell_type": "markdown",
      "metadata": {
        "id": "X-rdn_FQV20X"
      },
      "source": [
        "<a id='que'></a>\n",
        "# Questions on for the above concepts"
      ]
    },
    {
      "cell_type": "markdown",
      "metadata": {
        "id": "UhNB0DDEV20X"
      },
      "source": [
        "1. What are the types of the following variables?\n",
        "\n",
        "    a = 1\n",
        "\n",
        "    b = 2.6\n",
        "\n",
        "    c = [1,2,3,5,6]\n",
        "    \n",
        "    d = {'val': 'kilmer', 'reggie':'bush'}\n",
        "    \n",
        "    e = ('one', 'two', 'three')\n",
        "    \n",
        "    f = {1:{'key':'value'}, 2:{'key2':'value2'}}\n",
        "    \n",
        "    g = True\n",
        "    \n",
        "    h = False\n",
        "    \n",
        "    i = 'integer'"
      ]
    },
    {
      "cell_type": "markdown",
      "metadata": {
        "id": "bnRwgJ1vV20X"
      },
      "source": [
        "2. What is the difference between a \"mutable\" and \"immutable\" object?"
      ]
    },
    {
      "cell_type": "code",
      "execution_count": null,
      "metadata": {
        "id": "8re1jGC_V20X"
      },
      "outputs": [],
      "source": [
        "court_shows = [\"America's Court with Judge Ross\",\n",
        "              \"The Blame Game\",\n",
        "              \"Couples Court with The Cutlers\",\n",
        "              \"Divorce Court\",\n",
        "              \"Guy Court\",\n",
        "              \"Hot Bench\",\n",
        "              \"Judge Wapner's Animal Court\"]"
      ]
    },
    {
      "cell_type": "markdown",
      "metadata": {
        "id": "OAm7EhT6V20Y"
      },
      "source": [
        "3. Print the court_show list"
      ]
    },
    {
      "cell_type": "markdown",
      "metadata": {
        "id": "fr7_ouOUV20Y"
      },
      "source": [
        "4. Print the names of the first and last shows in the list."
      ]
    },
    {
      "cell_type": "markdown",
      "metadata": {
        "id": "G-BI5IWZV20Y"
      },
      "source": [
        "5. Print the first five shows in the list."
      ]
    },
    {
      "cell_type": "markdown",
      "metadata": {
        "id": "syIKx2J9V20Y"
      },
      "source": [
        "6. Append an animal to the list of animals."
      ]
    },
    {
      "cell_type": "code",
      "execution_count": null,
      "metadata": {
        "id": "ZHSwuK6yV20Y"
      },
      "outputs": [],
      "source": [
        "animals = ['duck', 'rat', 'boar', 'slug', 'mammoth', 'gazelle']"
      ]
    },
    {
      "cell_type": "markdown",
      "metadata": {
        "id": "-__udblRV20Y"
      },
      "source": [
        "7. Divide the length of the fifth animal by the second."
      ]
    },
    {
      "cell_type": "markdown",
      "metadata": {
        "id": "ViTCJX8wV20Y"
      },
      "source": [
        "8. Count the number of times 0 appears in the following list"
      ]
    },
    {
      "cell_type": "markdown",
      "metadata": {
        "id": "hNEvG8GHV20Z"
      },
      "source": [
        "binary = [0,1,1,0,1,0,1,1,1,1,0,0,1,0,0,1,0,1,1,0,0,1,1,0,1,1,0,0,0,1,1,1,0,1,0,1]"
      ]
    },
    {
      "cell_type": "markdown",
      "metadata": {
        "id": "kwYNYtqTV20Z"
      },
      "source": [
        "<a id='dict'></a>\n",
        "# Dictionaries\n",
        "Dictionaries are a non-ordered Python data type. Instead of using an ordered index to access data stored in a dictionary, we use a system of key-value pairs.\n",
        "\n",
        "A key is similar to a variable name.\n",
        "\n",
        "A value is similar to the value assigned to the variable.\n",
        "\n",
        "Curly braces ({ }) enclose dictionaries. Note: You can also use curly braces to construct a set. The first input in a dictionary pair is the \"key.\" The second input in a dictionary pair is the \"value.\" The general format looks like this:"
      ]
    },
    {
      "cell_type": "code",
      "execution_count": null,
      "metadata": {
        "id": "QVmVwhF2V20Z",
        "outputId": "fbed2b6b-607c-4314-8610-7b836f2ad560"
      },
      "outputs": [
        {
          "name": "stdout",
          "output_type": "stream",
          "text": [
            "<class 'dict'>\n",
            "{'key1': 1.0, 'key2': 2.0, 'key3': 3.0}\n"
          ]
        }
      ],
      "source": [
        "params = {\"key1\" : 1.0,\n",
        "          \"key2\" : 2.0,\n",
        "          \"key3\" : 3.0,}\n",
        "\n",
        "print(type(params))\n",
        "print(params)"
      ]
    },
    {
      "cell_type": "code",
      "execution_count": null,
      "metadata": {
        "id": "tfL7ZCZYV20Z",
        "outputId": "d358600f-4f33-426f-e622-f82fc232e201"
      },
      "outputs": [
        {
          "data": {
            "text/plain": [
              "2.0"
            ]
          },
          "execution_count": 2,
          "metadata": {},
          "output_type": "execute_result"
        }
      ],
      "source": [
        "# Value for parameter2 in the params dictionary:\n",
        "params[\"key2\"]"
      ]
    },
    {
      "cell_type": "code",
      "execution_count": null,
      "metadata": {
        "id": "snw2TNfxV20a"
      },
      "outputs": [],
      "source": [
        "# Adding a new dictionary entry:\n",
        "params[\"key4\"] = \"D\""
      ]
    },
    {
      "cell_type": "code",
      "execution_count": null,
      "metadata": {
        "id": "DRKnmPBPV20a",
        "outputId": "dc28deef-6e3a-4427-a402-b4a6c16cfd64"
      },
      "outputs": [
        {
          "name": "stdout",
          "output_type": "stream",
          "text": [
            "{'key1': 1.0, 'key2': 2.0, 'key3': 3.0, 'key4': 'D'}\n"
          ]
        }
      ],
      "source": [
        "# Print the entirety of the dictionary:\n",
        "print(params)"
      ]
    },
    {
      "cell_type": "code",
      "execution_count": null,
      "metadata": {
        "id": "Aprhayw_V20a"
      },
      "outputs": [],
      "source": [
        "# Reassigning the value of a key-value pair in the dictionary:\n",
        "params[\"key1\"] = \"A\"\n",
        "params[\"key2\"] = \"B\""
      ]
    },
    {
      "cell_type": "code",
      "execution_count": null,
      "metadata": {
        "id": "XGqyJiUdV20a",
        "outputId": "e5590579-7094-4280-a31a-345fbaabc0f4"
      },
      "outputs": [
        {
          "name": "stdout",
          "output_type": "stream",
          "text": [
            "{'key1': 'A', 'key2': 'B', 'key3': 3.0, 'key4': 'D'}\n"
          ]
        }
      ],
      "source": [
        "print(params)"
      ]
    },
    {
      "cell_type": "code",
      "execution_count": null,
      "metadata": {
        "id": "D0VeEmpMV20a",
        "outputId": "4075a07f-a873-4817-d7e8-4ccef77f8fcd"
      },
      "outputs": [
        {
          "data": {
            "text/plain": [
              "[('key1', 'A'), ('key2', 'B'), ('key3', 3.0), ('key4', 'D')]"
            ]
          },
          "execution_count": 7,
          "metadata": {},
          "output_type": "execute_result"
        }
      ],
      "source": [
        "# Dictionaries also have methods.\n",
        "\n",
        "# Convert a dictionary to a list of tuples (key-value pairs).\n",
        "# This is later used to conveniently loop through a dictionary:\n",
        "list(params.items())"
      ]
    },
    {
      "cell_type": "code",
      "execution_count": null,
      "metadata": {
        "id": "qTeEBB4uV20a"
      },
      "outputs": [],
      "source": [
        "tel = {'jack': 4098, 'sape': 4139}"
      ]
    },
    {
      "cell_type": "code",
      "execution_count": null,
      "metadata": {
        "id": "JZ_r0BgKV20b",
        "outputId": "a65db743-9656-4fa1-a122-5a915bff0a09"
      },
      "outputs": [
        {
          "data": {
            "text/plain": [
              "dict"
            ]
          },
          "execution_count": 15,
          "metadata": {},
          "output_type": "execute_result"
        }
      ],
      "source": [
        "type(tel)"
      ]
    },
    {
      "cell_type": "code",
      "execution_count": null,
      "metadata": {
        "id": "AGh_i0vQV20b",
        "outputId": "2435070e-5099-4f24-caeb-810ddb039565"
      },
      "outputs": [
        {
          "data": {
            "text/plain": [
              "4098"
            ]
          },
          "execution_count": 16,
          "metadata": {},
          "output_type": "execute_result"
        }
      ],
      "source": [
        "tel['jack']"
      ]
    },
    {
      "cell_type": "code",
      "execution_count": null,
      "metadata": {
        "id": "nGIGGwooV20b",
        "outputId": "2a2221db-8998-418e-b90f-d5da70f30371"
      },
      "outputs": [
        {
          "data": {
            "text/plain": [
              "{'jack': 4098, 'sape': 4139, 'guido': 4127}"
            ]
          },
          "execution_count": 17,
          "metadata": {},
          "output_type": "execute_result"
        }
      ],
      "source": [
        "#reassigning guide key\n",
        "tel['guido'] = 4127\n",
        "tel"
      ]
    },
    {
      "cell_type": "code",
      "execution_count": null,
      "metadata": {
        "id": "U0tLx6EAV20c",
        "outputId": "afb52cf8-05f3-4486-c1f2-43d1e52cc999"
      },
      "outputs": [
        {
          "data": {
            "text/plain": [
              "{'jack': 4098, 'guido': 4127, 'irv': 4127}"
            ]
          },
          "execution_count": 18,
          "metadata": {},
          "output_type": "execute_result"
        }
      ],
      "source": [
        "del tel['sape']\n",
        "tel['irv'] = 4127# artists['denre']['albums']='hello'\n",
        "tel"
      ]
    },
    {
      "cell_type": "code",
      "execution_count": null,
      "metadata": {
        "id": "cgbj4YHnV20c",
        "outputId": "29f28821-d792-4281-826c-36bc3dec6a0d"
      },
      "outputs": [
        {
          "data": {
            "text/plain": [
              "['jack', 'guido', 'irv']"
            ]
          },
          "execution_count": 20,
          "metadata": {},
          "output_type": "execute_result"
        }
      ],
      "source": [
        "list(tel)"
      ]
    },
    {
      "cell_type": "code",
      "execution_count": null,
      "metadata": {
        "id": "Je7bYSewV20c",
        "outputId": "537ea103-5242-41b3-e3fc-52632eeaa540"
      },
      "outputs": [
        {
          "data": {
            "text/plain": [
              "['guido', 'irv', 'jack']"
            ]
          },
          "execution_count": 21,
          "metadata": {},
          "output_type": "execute_result"
        }
      ],
      "source": [
        "sorted(tel)"
      ]
    },
    {
      "cell_type": "code",
      "execution_count": null,
      "metadata": {
        "id": "a_dqWYwYV20c",
        "outputId": "c5493ac8-aa93-4a6e-bd0c-3aa61b9ed8ad"
      },
      "outputs": [
        {
          "data": {
            "text/plain": [
              "True"
            ]
          },
          "execution_count": 23,
          "metadata": {},
          "output_type": "execute_result"
        }
      ],
      "source": [
        "'guido' in tel"
      ]
    },
    {
      "cell_type": "code",
      "execution_count": null,
      "metadata": {
        "id": "DGjCi_kOV20c",
        "outputId": "bccf2195-e30f-4783-81dc-05b7d63cb91f"
      },
      "outputs": [
        {
          "data": {
            "text/plain": [
              "False"
            ]
          },
          "execution_count": 24,
          "metadata": {},
          "output_type": "execute_result"
        }
      ],
      "source": [
        "'jack' not in tel"
      ]
    },
    {
      "cell_type": "code",
      "execution_count": null,
      "metadata": {
        "id": "ICHjoD4UV20d"
      },
      "outputs": [],
      "source": [
        "#Another way of dectionary creation\n",
        "d = dict([('sape', 4139), ('guido', 4127), ('jack', 4098)])"
      ]
    },
    {
      "cell_type": "code",
      "execution_count": null,
      "metadata": {
        "id": "Zm2pPDIsV20d",
        "outputId": "a878581c-d1fc-477e-e9f0-ce60f14752ba"
      },
      "outputs": [
        {
          "data": {
            "text/plain": [
              "{'sape': 4139, 'guido': 4127, 'jack': 4098}"
            ]
          },
          "execution_count": 26,
          "metadata": {},
          "output_type": "execute_result"
        }
      ],
      "source": [
        "d"
      ]
    },
    {
      "cell_type": "code",
      "execution_count": null,
      "metadata": {
        "id": "iU4Bpy6XV20d",
        "outputId": "3bd16254-56fb-4b23-8dc8-abf65d72b78d"
      },
      "outputs": [
        {
          "data": {
            "text/plain": [
              "dict_keys(['sape', 'guido', 'jack'])"
            ]
          },
          "execution_count": 27,
          "metadata": {},
          "output_type": "execute_result"
        }
      ],
      "source": [
        "d.keys()"
      ]
    },
    {
      "cell_type": "code",
      "execution_count": null,
      "metadata": {
        "id": "kJHkK3RkV20d",
        "outputId": "eeee308d-2c1d-4e64-8c72-798412dac224"
      },
      "outputs": [
        {
          "data": {
            "text/plain": [
              "dict_keys(['jack', 'guido', 'irv'])"
            ]
          },
          "execution_count": 28,
          "metadata": {},
          "output_type": "execute_result"
        }
      ],
      "source": [
        "tel.keys()"
      ]
    },
    {
      "cell_type": "code",
      "execution_count": null,
      "metadata": {
        "id": "BFCPLaytV20d",
        "outputId": "774bb862-4af7-4c54-d8d7-af39aed6f45f"
      },
      "outputs": [
        {
          "data": {
            "text/plain": [
              "dict_values([4098, 4127, 4127])"
            ]
          },
          "execution_count": 29,
          "metadata": {},
          "output_type": "execute_result"
        }
      ],
      "source": [
        "tel.values()"
      ]
    },
    {
      "cell_type": "code",
      "execution_count": null,
      "metadata": {
        "id": "UGux_tBQV20e",
        "outputId": "e5d9c8fb-a884-4ecd-cd9e-aaa50310dd1c"
      },
      "outputs": [
        {
          "data": {
            "text/plain": [
              "dict_items([('jack', 4098), ('guido', 4127), ('irv', 4127)])"
            ]
          },
          "execution_count": 30,
          "metadata": {},
          "output_type": "execute_result"
        }
      ],
      "source": [
        "tel.items()"
      ]
    },
    {
      "cell_type": "code",
      "execution_count": null,
      "metadata": {
        "id": "Jq3m42BiV20e"
      },
      "outputs": [],
      "source": [
        "artists = {\n",
        "    'Drake': {\n",
        "        'genre': 'Pop',\n",
        "        'albums': [\"God's Plan\", \"Scorpion\", \"Care Package\"],\n",
        "        'on_tour': True\n",
        "    },\n",
        "    'Kraftwerk':{\n",
        "        'genre': 'Electronic',\n",
        "        'albums': ['Manmachine', 'Computerworld', 'Autobahn'],\n",
        "        'on_tour': False\n",
        "    },\n",
        "    'Melt-Banana':{\n",
        "        'genre': 'Power Violence',\n",
        "        'albums': ['Scratch or Stitch', 'MxBx', 'Speak Squeak Creak'],\n",
        "        'on_tour': True\n",
        "    }\n",
        "}"
      ]
    },
    {
      "cell_type": "code",
      "execution_count": null,
      "metadata": {
        "id": "0bw-gs9kV20e",
        "outputId": "c56a69aa-2351-4918-d269-a32e79f0156a"
      },
      "outputs": [
        {
          "data": {
            "text/plain": [
              "'Scorpion'"
            ]
          },
          "execution_count": 32,
          "metadata": {},
          "output_type": "execute_result"
        }
      ],
      "source": [
        "#what is Drake's second album?\n",
        "artists['Drake']['albums'][1]"
      ]
    },
    {
      "cell_type": "code",
      "execution_count": null,
      "metadata": {
        "id": "3z4YyqLiV20e",
        "outputId": "21d5164a-91fa-4674-f342-0e6e9da3a483"
      },
      "outputs": [
        {
          "data": {
            "text/plain": [
              "['Scratch or Stitch', 'MxBx', 'Speak Squeak Creak']"
            ]
          },
          "execution_count": 33,
          "metadata": {},
          "output_type": "execute_result"
        }
      ],
      "source": [
        "#I would like to know Melt-Banana's albums\n",
        "artists['Melt-Banana']['albums']"
      ]
    },
    {
      "cell_type": "markdown",
      "metadata": {
        "id": "CWlaQuJHV20e"
      },
      "source": [
        "# Questions on dictionaries"
      ]
    },
    {
      "cell_type": "markdown",
      "metadata": {
        "id": "a3oEqjLJV20e"
      },
      "source": [
        "1. Create an New York zipcode dictionary.\n",
        "\n",
        "    With the following key:value pairs:\n",
        "\n",
        "        'wall_street': 10005\n",
        "\n",
        "        'chinatown': 10013\n",
        "\n",
        "        'harlem':10031\n",
        "\n",
        "        'katonah':10536"
      ]
    },
    {
      "cell_type": "markdown",
      "metadata": {
        "id": "vgtqglNrV20f"
      },
      "source": [
        "2. Add scotia to the dictionary with zipcode 12302."
      ]
    },
    {
      "cell_type": "markdown",
      "metadata": {
        "id": "Xt7yhMoMV20f"
      },
      "source": [
        "3. Get the zipcode for 'chinatown', and assign it to a variable."
      ]
    },
    {
      "cell_type": "markdown",
      "metadata": {
        "id": "5bley4LUV20f"
      },
      "source": [
        "4. Get the keys out of the dictionary"
      ]
    },
    {
      "cell_type": "markdown",
      "metadata": {
        "id": "nPoXzPrqV20f"
      },
      "source": [
        "5. Get the key:value pairs out of the dictionary as a list of tuples."
      ]
    },
    {
      "cell_type": "markdown",
      "metadata": {
        "id": "-hNbyz-7V20f"
      },
      "source": [
        "<a id='sets'></a>\n",
        "# Sets"
      ]
    },
    {
      "cell_type": "code",
      "execution_count": null,
      "metadata": {
        "id": "uf2icyK3V20f"
      },
      "outputs": [],
      "source": [
        "v1 = {'A', 'B', 'A', 'A', 'B'}"
      ]
    },
    {
      "cell_type": "code",
      "execution_count": null,
      "metadata": {
        "id": "ytct1WVJV20f",
        "outputId": "f702099a-c73e-439b-d78a-e8e514937b51"
      },
      "outputs": [
        {
          "data": {
            "text/plain": [
              "{'A', 'B'}"
            ]
          },
          "execution_count": 3,
          "metadata": {},
          "output_type": "execute_result"
        }
      ],
      "source": [
        "v1"
      ]
    },
    {
      "cell_type": "code",
      "execution_count": null,
      "metadata": {
        "id": "INtU4ekuV20f"
      },
      "outputs": [],
      "source": [
        "lyrics = '''And still\n",
        "Bad things\n",
        "It's a lot of bad things\n",
        "That they wishin' and wishin' and wishin' and wishin'\n",
        "They wishin' on me\n",
        "Bad things\n",
        "It's a lot of bad things\n",
        "That they wishin' and wishin' and wishin' and wishin'\n",
        "They wishin' on me\n",
        "Yuh, ayy, ayy\n",
        "'''"
      ]
    },
    {
      "cell_type": "code",
      "execution_count": null,
      "metadata": {
        "id": "uU8H7NXvV20g",
        "outputId": "f4e68d03-e433-46c0-98e7-71ade8155fde"
      },
      "outputs": [
        {
          "data": {
            "text/plain": [
              "242"
            ]
          },
          "execution_count": 5,
          "metadata": {},
          "output_type": "execute_result"
        }
      ],
      "source": [
        "len(lyrics)"
      ]
    },
    {
      "cell_type": "code",
      "execution_count": null,
      "metadata": {
        "id": "0V-ggf-jV20g"
      },
      "outputs": [],
      "source": [
        "words = lyrics.split()"
      ]
    },
    {
      "cell_type": "code",
      "execution_count": null,
      "metadata": {
        "id": "Rpwhun8ZV20g",
        "outputId": "0b3962fe-3105-4a3c-cc41-67472d700d1c"
      },
      "outputs": [
        {
          "data": {
            "text/plain": [
              "['And',\n",
              " 'still',\n",
              " 'Bad',\n",
              " 'things',\n",
              " \"It's\",\n",
              " 'a',\n",
              " 'lot',\n",
              " 'of',\n",
              " 'bad',\n",
              " 'things',\n",
              " 'That',\n",
              " 'they',\n",
              " \"wishin'\",\n",
              " 'and',\n",
              " \"wishin'\",\n",
              " 'and',\n",
              " \"wishin'\",\n",
              " 'and',\n",
              " \"wishin'\",\n",
              " 'They',\n",
              " \"wishin'\",\n",
              " 'on',\n",
              " 'me',\n",
              " 'Bad',\n",
              " 'things',\n",
              " \"It's\",\n",
              " 'a',\n",
              " 'lot',\n",
              " 'of',\n",
              " 'bad',\n",
              " 'things',\n",
              " 'That',\n",
              " 'they',\n",
              " \"wishin'\",\n",
              " 'and',\n",
              " \"wishin'\",\n",
              " 'and',\n",
              " \"wishin'\",\n",
              " 'and',\n",
              " \"wishin'\",\n",
              " 'They',\n",
              " \"wishin'\",\n",
              " 'on',\n",
              " 'me',\n",
              " 'Yuh,',\n",
              " 'ayy,',\n",
              " 'ayy']"
            ]
          },
          "execution_count": 25,
          "metadata": {},
          "output_type": "execute_result"
        }
      ],
      "source": [
        "words"
      ]
    },
    {
      "cell_type": "code",
      "execution_count": null,
      "metadata": {
        "id": "aQVlYqHLV20g",
        "outputId": "46fb4f8c-6291-421f-d7cf-62c80a274d43"
      },
      "outputs": [
        {
          "data": {
            "text/plain": [
              "['And', 'still', 'Bad', 'things', \"It's\", 'a', 'lot', 'of', 'bad', 'things']"
            ]
          },
          "execution_count": 7,
          "metadata": {},
          "output_type": "execute_result"
        }
      ],
      "source": [
        "words[:10]"
      ]
    },
    {
      "cell_type": "code",
      "execution_count": null,
      "metadata": {
        "id": "0Yk7sjXEV20g",
        "outputId": "278616f7-de15-4c77-c009-d4218617894f"
      },
      "outputs": [
        {
          "data": {
            "text/plain": [
              "47"
            ]
          },
          "execution_count": 8,
          "metadata": {},
          "output_type": "execute_result"
        }
      ],
      "source": [
        "len(words)"
      ]
    },
    {
      "cell_type": "code",
      "execution_count": null,
      "metadata": {
        "id": "hzKR1L5lV20h",
        "outputId": "2236269e-21f4-481a-a7ae-9501029098ef"
      },
      "outputs": [
        {
          "data": {
            "text/plain": [
              "{'And',\n",
              " 'Bad',\n",
              " \"It's\",\n",
              " 'That',\n",
              " 'They',\n",
              " 'Yuh,',\n",
              " 'a',\n",
              " 'and',\n",
              " 'ayy',\n",
              " 'ayy,',\n",
              " 'bad',\n",
              " 'lot',\n",
              " 'me',\n",
              " 'of',\n",
              " 'on',\n",
              " 'still',\n",
              " 'they',\n",
              " 'things',\n",
              " \"wishin'\"}"
            ]
          },
          "execution_count": 9,
          "metadata": {},
          "output_type": "execute_result"
        }
      ],
      "source": [
        "set(words)"
      ]
    },
    {
      "cell_type": "code",
      "execution_count": null,
      "metadata": {
        "id": "SyqTLf6kV20h",
        "outputId": "8d57009c-2d2b-405a-a1c2-8bd6e78b93b7"
      },
      "outputs": [
        {
          "data": {
            "text/plain": [
              "19"
            ]
          },
          "execution_count": 11,
          "metadata": {},
          "output_type": "execute_result"
        }
      ],
      "source": [
        "len(set(words))"
      ]
    },
    {
      "cell_type": "code",
      "execution_count": null,
      "metadata": {
        "id": "FeQ5LbaGV20h",
        "outputId": "b050b497-c8c8-4abf-8449-cbc07f231599"
      },
      "outputs": [
        {
          "name": "stdout",
          "output_type": "stream",
          "text": [
            "0.40425531914893614\n"
          ]
        }
      ],
      "source": [
        "lexical_diversity = len(set(words))/len(words)\n",
        "print(lexical_diversity)"
      ]
    },
    {
      "cell_type": "code",
      "execution_count": null,
      "metadata": {
        "id": "RIcPey0rV20h",
        "outputId": "9ba5408d-b459-42f8-ffa3-b0b14612954e"
      },
      "outputs": [
        {
          "name": "stdout",
          "output_type": "stream",
          "text": [
            "This verse of Drake is 0.40\n"
          ]
        }
      ],
      "source": [
        "###print the lexical diversity rounded to two decimals\n",
        "print(f'This verse of Drake is {lexical_diversity:.2f}')"
      ]
    },
    {
      "cell_type": "code",
      "execution_count": null,
      "metadata": {
        "id": "kZJEpPcYV20h"
      },
      "outputs": [],
      "source": [
        "words = {'a', 'new', 'set', 'of', 'words'}"
      ]
    },
    {
      "cell_type": "code",
      "execution_count": null,
      "metadata": {
        "id": "pDWzx3WvV20i"
      },
      "outputs": [],
      "source": [
        "words.add('G.O.D')"
      ]
    },
    {
      "cell_type": "code",
      "execution_count": null,
      "metadata": {
        "id": "IKPmi4U2V20i",
        "outputId": "58acad5c-2349-406a-cda5-7eed183d3f6e"
      },
      "outputs": [
        {
          "data": {
            "text/plain": [
              "{'G.O.D', 'a', 'new', 'of', 'set', 'words'}"
            ]
          },
          "execution_count": 14,
          "metadata": {},
          "output_type": "execute_result"
        }
      ],
      "source": [
        "words"
      ]
    },
    {
      "cell_type": "code",
      "execution_count": null,
      "metadata": {
        "id": "ijsuhcPkV20i"
      },
      "outputs": [],
      "source": [
        "words.remove('words')"
      ]
    },
    {
      "cell_type": "code",
      "execution_count": null,
      "metadata": {
        "id": "4BT5XqQNV20i",
        "outputId": "308a72e0-90f6-4728-bd12-d4d5c96e233b"
      },
      "outputs": [
        {
          "data": {
            "text/plain": [
              "{'G.O.D', 'a', 'new', 'of', 'set'}"
            ]
          },
          "execution_count": 16,
          "metadata": {},
          "output_type": "execute_result"
        }
      ],
      "source": [
        "words"
      ]
    },
    {
      "cell_type": "code",
      "execution_count": null,
      "metadata": {
        "id": "YoO0OEVUV20i"
      },
      "outputs": [],
      "source": [
        "other_words = {'another', 'set', 'of', 'new', 'words'}"
      ]
    },
    {
      "cell_type": "code",
      "execution_count": null,
      "metadata": {
        "id": "3YoVnBbfV20i",
        "outputId": "b5d4d4bb-44e0-4212-f80d-fed4ebe4e42d"
      },
      "outputs": [
        {
          "data": {
            "text/plain": [
              "{'new', 'of', 'set'}"
            ]
          },
          "execution_count": 18,
          "metadata": {},
          "output_type": "execute_result"
        }
      ],
      "source": [
        "words.intersection(other_words)"
      ]
    },
    {
      "cell_type": "code",
      "execution_count": null,
      "metadata": {
        "id": "ZfiIs8w4V20j",
        "outputId": "d68800c7-27a5-4f5b-fa5f-f694df4e8d0e"
      },
      "outputs": [
        {
          "data": {
            "text/plain": [
              "{'G.O.D', 'a', 'another', 'new', 'of', 'set', 'words'}"
            ]
          },
          "execution_count": 19,
          "metadata": {},
          "output_type": "execute_result"
        }
      ],
      "source": [
        "words.union(other_words)"
      ]
    },
    {
      "cell_type": "code",
      "execution_count": null,
      "metadata": {
        "id": "tDjzbXjoV20j",
        "outputId": "51febd13-35f2-4475-e39f-7f2c043f43ca"
      },
      "outputs": [
        {
          "name": "stdout",
          "output_type": "stream",
          "text": [
            "{8, 1, 3, 7}\n"
          ]
        }
      ],
      "source": [
        "x1 = {9,5,6,3,7,8,1}\n",
        "x2 = {7,1,3,2,0,4,8}\n",
        "x1.symmetric_difference(x2)\n",
        "print(x1.intersection(x2))"
      ]
    },
    {
      "cell_type": "markdown",
      "metadata": {
        "id": "xcuOfP88V20j"
      },
      "source": [
        "<a id='quer'></a>\n",
        "# Queries and Inputs"
      ]
    },
    {
      "cell_type": "code",
      "execution_count": null,
      "metadata": {
        "id": "DuGfTlmnV20k"
      },
      "outputs": [],
      "source": [
        "#a,b,c=55\n",
        "#a,b,c = 55,55,55\n",
        "#a=b=c=55\n",
        "#a=55;b=a;c=b\n",
        "#x=45\n",
        "#y=7\n",
        "#x%=y\n",
        "#print(x)\n",
        "#a=4**3\n",
        "#b=pow(4,3)\n",
        "#print(a,b)\n",
        "#x=8\n",
        "#if x>8:\n",
        "#    print(20)\n",
        "#else:\n",
        "#    print(10)\n",
        "\n",
        "#int('10.8')\n",
        "#float(10)\n",
        "#int(10)\n",
        "#float(10.8)"
      ]
    },
    {
      "cell_type": "code",
      "execution_count": null,
      "metadata": {
        "id": "tBKYYVgUV20k",
        "outputId": "8020ef81-4497-4ab2-c791-302f6bac5671"
      },
      "outputs": [
        {
          "data": {
            "text/plain": [
              "{1: 'one', 2: 'two', 3: 'three', 4: 'four'}"
            ]
          },
          "execution_count": 1,
          "metadata": {},
          "output_type": "execute_result"
        }
      ],
      "source": [
        "keys = [1,2,3,4]\n",
        "values = ['one', 'two','three','four']\n",
        "zipdict = dict(zip(keys, values))\n",
        "zipdict"
      ]
    },
    {
      "cell_type": "code",
      "execution_count": null,
      "metadata": {
        "id": "4JAbUwlbV20k",
        "outputId": "f9dea392-7f4b-4bcf-f54a-c1818e6e722f"
      },
      "outputs": [
        {
          "data": {
            "text/plain": [
              "dict_values(['one', 'two', 'three', 'four'])"
            ]
          },
          "execution_count": 3,
          "metadata": {},
          "output_type": "execute_result"
        }
      ],
      "source": [
        "zipdict.values()"
      ]
    },
    {
      "cell_type": "code",
      "execution_count": null,
      "metadata": {
        "id": "5RHzTnn_V20l",
        "outputId": "06cf0d52-4670-4c8e-b88c-8fbc4c4850bc"
      },
      "outputs": [
        {
          "data": {
            "text/plain": [
              "'shyamala'"
            ]
          },
          "execution_count": 4,
          "metadata": {},
          "output_type": "execute_result"
        }
      ],
      "source": [
        "dict={19:\"shyamala\",20:\"dhgya\",21:\"xvbn\"}\n",
        "dict.get(19)"
      ]
    },
    {
      "cell_type": "code",
      "execution_count": null,
      "metadata": {
        "id": "o3OBqdNbV20l",
        "outputId": "f00cbbe1-285b-40c5-990d-1aa2e839cafe"
      },
      "outputs": [
        {
          "data": {
            "text/plain": [
              "'shyamala'"
            ]
          },
          "execution_count": 5,
          "metadata": {},
          "output_type": "execute_result"
        }
      ],
      "source": [
        "dict[19]"
      ]
    },
    {
      "cell_type": "code",
      "execution_count": null,
      "metadata": {
        "id": "bBY9-hDZV20l"
      },
      "outputs": [],
      "source": []
    }
  ],
  "metadata": {
    "kernelspec": {
      "display_name": "Python 3 (ipykernel)",
      "language": "python",
      "name": "python3"
    },
    "language_info": {
      "codemirror_mode": {
        "name": "ipython",
        "version": 3
      },
      "file_extension": ".py",
      "mimetype": "text/x-python",
      "name": "python",
      "nbconvert_exporter": "python",
      "pygments_lexer": "ipython3",
      "version": "3.11.5"
    },
    "colab": {
      "provenance": []
    }
  },
  "nbformat": 4,
  "nbformat_minor": 0
}